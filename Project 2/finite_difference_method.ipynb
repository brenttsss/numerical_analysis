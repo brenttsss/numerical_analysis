{
 "cells": [
  {
   "metadata": {
    "ExecuteTime": {
     "end_time": "2024-05-07T11:52:38.935729Z",
     "start_time": "2024-05-07T11:52:38.917780Z"
    }
   },
   "cell_type": "code",
   "source": [
    "import numpy as np\n",
    "from matplotlib import pyplot as plt\n",
    "from matplotlib import cm\n",
    "from mpl_toolkits.mplot3d import Axes3D"
   ],
   "id": "38e6b2256b93ce59",
   "execution_count": 118,
   "outputs": []
  },
  {
   "metadata": {},
   "cell_type": "markdown",
   "source": [
    "Given a system of two coupled Schrödinger equations with the following non-linearity:\n",
    "\\begin{align}\n",
    "iu_t + u_{xx} + \\left(|u|^2 + \\alpha|u|^4 + |v|^2\\right)u & = 0; \\\\\n",
    "iv_t + v_{xx} + \\left(|u|^2 + |v|^2 + \\alpha|v|^4\\right)v & = 0,\n",
    "\\end{align} \n",
    "where $\\alpha$ is a parameter. The boundary conditions are given by:\n",
    "\\begin{align}\n",
    "u(-L,t)=u(L,t), \\quad u_x(-L,t)=u_x(L,t); \\\\\n",
    "v(-L,t)=v(L,t), \\quad v_x(-L,t)=v_x(L,t).\n",
    "\\end{align}\n",
    "Further, the initial conditions are given by:\n",
    "\\begin{align}\n",
    "u(x,0) &= \\sum_{j=1,2} \\sech \\left[(x-x_j)\\right]\\exp(ic_j(x-x_j); \\\\\n",
    "v(x,0) &= \\sum_{j=1,2} \\sech \\left[(x-x_j)\\right]\\exp(ic_j(x-x_j),\n",
    "\\end{align}\n",
    "where $|c_j|<2$ are the velocities of the colliding solitions."
   ],
   "id": "fd6683c1bc2f74b3"
  },
  {
   "metadata": {},
   "cell_type": "markdown",
   "source": "We want to explore the soliton collisions for different values of the parameter $\\alpha$, the velocity $c_j$, and different values of the initial inter-soliton distance $|x_2 x_1|$. In particular, examining the effect of positive and negative values of $\\alpha$ as well as small and large velocities $c_j$ and initial inter-soliton distances.",
   "id": "b7e0066913ecf9fd"
  },
  {
   "metadata": {},
   "cell_type": "markdown",
   "source": "Defining the spatial step and spatial domain:",
   "id": "19508fecae7e95ad"
  },
  {
   "metadata": {
    "ExecuteTime": {
     "end_time": "2024-05-07T11:52:38.951495Z",
     "start_time": "2024-05-07T11:52:38.940708Z"
    }
   },
   "cell_type": "code",
   "source": [
    "N = 100\n",
    "L = 10\n",
    "h = L / N\n",
    "x = np.arange(-L, L, h)"
   ],
   "id": "f2a346dd66e64f0a",
   "execution_count": 119,
   "outputs": []
  },
  {
   "metadata": {},
   "cell_type": "markdown",
   "source": "Defining the time step and time domain:",
   "id": "8d56ff4ae1b521ad"
  },
  {
   "metadata": {
    "ExecuteTime": {
     "end_time": "2024-05-07T11:52:38.967487Z",
     "start_time": "2024-05-07T11:52:38.962459Z"
    }
   },
   "cell_type": "code",
   "source": [
    "t_max = 10\n",
    "tau = (h**2)/8\n",
    "t = np.arange(0, t_max + tau, tau)"
   ],
   "id": "a91b6d0fa517dbc9",
   "execution_count": 120,
   "outputs": []
  },
  {
   "metadata": {},
   "cell_type": "markdown",
   "source": "Defining two zero matrices that will eventually store all the $u$ and $v$ values:",
   "id": "318a395059e6038b"
  },
  {
   "metadata": {
    "ExecuteTime": {
     "end_time": "2024-05-07T11:52:38.983589Z",
     "start_time": "2024-05-07T11:52:38.968438Z"
    }
   },
   "cell_type": "code",
   "source": [
    "m, n = len(x), len(t)\n",
    "u = np.zeros((m, n), dtype=complex)\n",
    "v = np.zeros((m, n), dtype=complex)"
   ],
   "id": "d1ec8369603ce6d1",
   "execution_count": 121,
   "outputs": []
  },
  {
   "metadata": {},
   "cell_type": "markdown",
   "source": "Defining the initial conditions $u(x,0)$ and $v(x,0)$:",
   "id": "4077fd87639e12f6"
  },
  {
   "metadata": {
    "ExecuteTime": {
     "end_time": "2024-05-07T11:52:38.999485Z",
     "start_time": "2024-05-07T11:52:38.984536Z"
    }
   },
   "cell_type": "code",
   "source": [
    "def sech_f(x):\n",
    "    return 1 / np.cosh(x)\n",
    "\n",
    "def u0_f(x, x1, x2, c1, c2):\n",
    "    term_1 = sech_f(x - x1) * np.exp(1j * c1 * (x - x1))\n",
    "    term_2 = sech_f(x - x2) * np.exp(1j * c2 * (x - x2))\n",
    "    return term_1 + term_2\n",
    "\n",
    "def v0_f(x, x1, x2, c1, c2):\n",
    "    term_1 = sech_f(x - x1) * np.exp(1j * c1 * (x - x1))\n",
    "    term_2 = sech_f(x - x2) * np.exp(1j * c2 * (x - x2))\n",
    "    return term_1 + term_2"
   ],
   "id": "f5a4245c833f1c1",
   "execution_count": 122,
   "outputs": []
  },
  {
   "metadata": {},
   "cell_type": "markdown",
   "source": "Calculating the initial conditions at $u(x,0)$ and $v(x,0)$:",
   "id": "cdf5ffa012ad51b6"
  },
  {
   "metadata": {
    "ExecuteTime": {
     "end_time": "2024-05-07T11:52:39.014434Z",
     "start_time": "2024-05-07T11:52:39.000481Z"
    }
   },
   "cell_type": "code",
   "source": [
    "x1, x2, c1, c2 = -5, 5, 1, 1\n",
    "alpha = 0.5\n",
    "u[:, 0] = u0_f(x, x1, x2, c1, c2)\n",
    "v[:, 0] = v0_f(x, x1, x2, c1, c2)"
   ],
   "id": "3da4ead69c33230",
   "execution_count": 123,
   "outputs": []
  },
  {
   "metadata": {},
   "cell_type": "markdown",
   "source": "#### Finite-difference method",
   "id": "f5233296a053b854"
  },
  {
   "metadata": {},
   "cell_type": "markdown",
   "source": [
    "Using the finite-difference approximations:\n",
    "\\begin{align}\n",
    "u_{j,k+1} &= u_{j,k-1} + 2\\tau i \\left( \\frac{u_{j-1,k} - 2u_{j,k} + u_{j+1,k}}{h^2}\\right) + 2\\tau i \\left( |u_{j,k}|^2 + \\alpha|u_{j,k}|^4 + |v_{j,k}|^2 \\right) u_{j,k}; \\\\\n",
    "v_{j,k+1} &= v_{j,k-1} + 2\\tau i \\left( \\frac{v_{j-1,k} - 2v_{j,k} + v_{j+1,k}}{h^2}\\right) + 2\\tau i \\left( |u_{j,k}|^2 + |v_{j,k}|^2 + \\alpha|v_{j,k}|^4 \\right) v_{j,k},\n",
    "\\end{align}\n",
    "where the boundary points are treated using:\n",
    "\\begin{align}\n",
    "u_{0,k}&=u_{N,k},\\quad& v_{0,k}&=v_{N,k}; \\\\\n",
    "u_{-1,k}&=u_{N-1,k},\\quad& v_{-1,k}&=v_{N-1,k}; \\\\\n",
    "u_{N+1,k}&=u_{1,k},\\quad& v_{N+1,k}&=v_{1,k}.\n",
    "\\end{align}"
   ],
   "id": "71d6df953f97d0be"
  },
  {
   "metadata": {},
   "cell_type": "markdown",
   "source": [
    "These expressions can be simplified to:\n",
    "\\begin{align}\n",
    "\\vec{u}^{\\,(k+1)} &= \\vec{u}^{\\,(k-1)} + D_1^{[j,k]}\\vec{u}^{\\,(k)}; \\\\\n",
    "\\vec{v}^{\\,(k+1)} &= \\vec{v}^{\\,(k-1)} + D_2^{[j,k]}\\vec{v}^{\\,(k)},\n",
    "\\end{align}\n",
    "where $D_1^{[j,k]}, D_2^{[j,k]}$ are the tridiagonal matrices that contain the coefficients for the finite difference approximations:\n",
    "\\begin{equation}\n",
    "D_1^{[j,k]}=\n",
    "\\begin{pmatrix}\n",
    "-\\frac{4\\tau i}{h^2} + 2\\tau i\\left(|u_{0,k}|^2+\\alpha|u_{0,k}|^4+|v_{0,k}|^2\\right) & \\frac{2\\tau i}{h^2} & 0 & \\cdots & \\frac{2\\tau i}{h^2} \\\\\n",
    "\\frac{2\\tau i}{h^2} & -\\frac{4\\tau i}{h^2} + 2\\tau i\\left(|u_{0,k}|^2+\\alpha|u_{0,k}|^4+|v_{0,k}|^2\\right) & \\frac{2\\tau i}{h^2} &  \\cdots & 0 \\\\\n",
    "\\vdots & & & & \\vdots \\\\\n",
    "\\frac{2\\tau i}{h^2} & 0 & \\cdots & \\frac{2\\tau i}{h^2} & -\\frac{4\\tau i}{h^2} + 2\\tau i\\left(|u_{0,k}|^2+\\alpha|u_{0,k}|^4+|v_{0,k}|^2\\right)\n",
    "\\end{pmatrix};\n",
    "\\end{equation}\n",
    "\\begin{equation}\n",
    "D_2^{[j,k]}=\n",
    "\\begin{pmatrix}\n",
    "-\\frac{4\\tau i}{h^2} + 2\\tau i\\left(|u_{0,k}|^2+|v_{0,k}|^2+\\alpha|v_{0,k}|^4\\right) & \\frac{2\\tau i}{h^2} & 0 & \\cdots & \\frac{2\\tau i}{h^2} \\\\\n",
    "\\frac{2\\tau i}{h^2} & -\\frac{4\\tau i}{h^2} + 2\\tau i\\left(|u_{0,k}|^2+|v_{0,k}|^2+\\alpha|v_{0,k}|^4\\right) & \\frac{2\\tau i}{h^2} &  \\cdots & 0 \\\\\n",
    "\\vdots & & & & \\vdots \\\\\n",
    "\\frac{2\\tau i}{h^2} & 0 & \\cdots & \\frac{2\\tau i}{h^2} & -\\frac{4\\tau i}{h^2} + 2\\tau i\\left(|u_{0,k}|^2+|v_{0,k}|^2+\\alpha|v_{0,k}|^4\\right)\n",
    "\\end{pmatrix}.\n",
    "\\end{equation}"
   ],
   "id": "bdc44a600396353f"
  },
  {
   "metadata": {
    "ExecuteTime": {
     "end_time": "2024-05-07T11:52:39.029385Z",
     "start_time": "2024-05-07T11:52:39.015432Z"
    }
   },
   "cell_type": "code",
   "source": [
    "def layer_matrix_u_f(u_layer, v_layer):\n",
    "    upper_diagonal = np.diag([2*tau*1j/(h**2)]* (m - 1), 1)\n",
    "    lower_diagonal = np.diag([2*tau*1j/(h**2)]* (m - 1), -1)\n",
    "    main_diagonal = np.diag([-4*tau*1j/(h**2)+2*tau*1j*(np.abs(u_layer[i])**2 + alpha * np.abs(u_layer[i])**4 + np.abs(v_layer[i])**2) for i in range(len(u_layer))])\n",
    "    \n",
    "    val_mat = upper_diagonal + lower_diagonal + main_diagonal\n",
    "    val_mat[(m - 1, 0)] = (2 * 1j * tau) / (h ** 2)\n",
    "    val_mat[(0, m - 1)] = (2 * 1j * tau) / (h ** 2)\n",
    "    \n",
    "    return val_mat\n",
    "\n",
    "def layer_matrix_v_f(u_layer, v_layer):\n",
    "    upper_diagonal = np.diag([2*tau*1j/(h**2)]* (m - 1), 1)\n",
    "    lower_diagonal = np.diag([2*tau*1j/(h**2)]* (m - 1), -1)\n",
    "    main_diagonal = np.diag([-4*tau*1j/(h**2)+2*tau*1j*(np.abs(u_layer[i])**2 + np.abs(v_layer[i])**2 + alpha * np.abs(v_layer[i])**4) for i in range(len(v_layer))])\n",
    "    \n",
    "    val_mat = upper_diagonal + lower_diagonal + main_diagonal\n",
    "    val_mat[(m - 1, 0)] = (2 * 1j * tau) / (h ** 2)\n",
    "    val_mat[(0, m - 1)] = (2 * 1j * tau) / (h ** 2)\n",
    "    \n",
    "    return val_mat"
   ],
   "id": "af009c01b0f57267",
   "execution_count": 124,
   "outputs": []
  },
  {
   "metadata": {},
   "cell_type": "markdown",
   "source": [
    "The finite-difference approximations for the first time layer are:\n",
    "\\begin{align}\n",
    "u_{j,k+1} &= u_{j,k} + \\tau i \\left( \\frac{u_{j-1,k} - 2u_{j,k} + u_{j+1,k}}{h^2}\\right) + \\tau i \\left( |u_{j,k}|^2 + \\alpha|u_{j,k}|^4 + |v_{j,k}|^2 \\right) u_{j,k}; \\\\\n",
    "v_{j,k+1} &= v_{j,k} + \\tau i \\left( \\frac{v_{j-1,k} - 2v_{j,k} + v_{j+1,k}}{h^2}\\right) + \\tau i \\left( |u_{j,k}|^2 + |v_{j,k}|^2 + \\alpha|v_{j,k}|^4 \\right) v_{j,k},\n",
    "\\end{align}\n",
    "where the boundary points are treated using:\n",
    "\\begin{align}\n",
    "u_{0,k}&=u_{N,k},\\quad& v_{0,k}&=v_{N,k}; \\\\\n",
    "u_{-1,k}&=u_{N-1,k},\\quad& v_{-1,k}&=v_{N-1,k}; \\\\\n",
    "u_{N+1,k}&=u_{1,k},\\quad& v_{N+1,k}&=v_{1,k}.\n",
    "\\end{align}"
   ],
   "id": "ae20aae538061874"
  },
  {
   "metadata": {},
   "cell_type": "markdown",
   "source": [
    "These expressions can be simplified to:\n",
    "\\begin{align}\n",
    "\\vec{u}^{\\,(k+1)} &= \\tilde{D}_1^{[j,k]}\\vec{u}^{\\,(k)}; \\\\\n",
    "\\vec{v}^{\\,(k+1)} &= \\tilde{D}_2^{[j,k]}\\vec{v}^{\\,(k)}, \n",
    "\\end{align}\n",
    "where $\\tilde{D}_1^{[j,k]},\\tilde{D}_2^{[j,k]}$ are the tridiagonal matrices that contain the coefficients for the finite difference approximations:\n",
    "\\begin{equation}\n",
    "\\tilde{D}_1^{[j,k]} =\n",
    "\\begin{pmatrix}\n",
    "1 - \\frac{2\\tau i}{h^2} + \\tau i \\left(|u_{0,k}|^2 + \\alpha|u_{0,k}|^4 + |v_{0,k}|^2 \\right) & \\frac{\\tau i}{h^2} & 0 & \\cdots & \\frac{\\tau i}{h^2} \\\\\n",
    "\\frac{\\tau i}{h^2} & 1 - \\frac{2\\tau i}{h^2} + \\tau i \\left(|u_{1,k}|^2 + \\alpha|u_{1,k}|^4 + |v_{1,k}|^2 \\right) & \\frac{\\tau i}{h^2} & \\cdots & 0 \\\\\n",
    "\\vdots & & & & \\vdots \\\\\n",
    "\\frac{\\tau i}{h^2} & \\cdots & 0 & \\frac{\\tau i}{h^2} & 1 - \\frac{2\\tau i}{h^2} + \\tau i \\left(|u_{N,k}|^2 + \\alpha|u_{N,k}|^4 + |v_{N,k}|^2 \\right)\n",
    "\\end{pmatrix};\n",
    "\\end{equation}\n",
    "\\begin{equation}\n",
    "\\tilde{D}_2^{[j,k]} =\n",
    "\\begin{pmatrix}\n",
    "1 - \\frac{2\\tau i}{h^2} + \\tau i \\left(|u_{0,k}|^2 + |v_{0,k}|^2 + \\alpha|v_{0,k}|^4 \\right) & \\frac{\\tau i}{h^2} & 0 & \\cdots & \\frac{\\tau i}{h^2} \\\\\n",
    "\\frac{\\tau i}{h^2} & 1 - \\frac{2\\tau i}{h^2} + \\tau i \\left(|u_{1,k}|^2 + |v_{1,k}|^2 + \\alpha|v_{1,k}|^4 \\right) & \\frac{\\tau i}{h^2} & \\cdots & 0 \\\\\n",
    "\\vdots & & & & \\vdots \\\\\n",
    "\\frac{\\tau i}{h^2} & \\cdots & 0 & \\frac{\\tau i}{h^2} & 1 - \\frac{2\\tau i}{h^2} + \\tau i \\left(|u_{N,k}|^2 + |v_{N,k}|^2 + \\alpha|v_{N,k}|^4 \\right)\n",
    "\\end{pmatrix}.\n",
    "\\end{equation}"
   ],
   "id": "3d46fe5afc2fa879"
  },
  {
   "metadata": {
    "ExecuteTime": {
     "end_time": "2024-05-07T11:52:39.044344Z",
     "start_time": "2024-05-07T11:52:39.030383Z"
    }
   },
   "cell_type": "code",
   "source": [
    "def first_layer_matrix_u_f(u_value, v_value):\n",
    "    upper_diagonal = np.diag([tau*1j/(h**2)] * (m - 1), 1)\n",
    "    lower_diagonal = np.diag([tau*1j/(h**2)] * (m - 1), -1)\n",
    "    main_diagonal = np.diag([1-(2*tau*1j/(h**2) + tau*1j*(np.abs(u_value[i])**2 + alpha*np.abs(u_value[i])**4 + np.abs(v_value[i])**2)) for i in range(len(u_value))])\n",
    "    \n",
    "    val_mat = upper_diagonal + lower_diagonal + main_diagonal\n",
    "    val_mat[(m - 1, 0)] = (1j * tau) / (h ** 2)\n",
    "    val_mat[(0, m - 1)] = (1j * tau) / (h ** 2)\n",
    "    \n",
    "    return val_mat\n",
    "\n",
    "def first_layer_matrix_v_f(u_value, v_value):\n",
    "    upper_diagonal = np.diag([tau*1j/(h**2)] * (m - 1), 1)\n",
    "    lower_diagonal = np.diag([tau*1j/(h**2)] * (m - 1), -1)\n",
    "    main_diagonal = np.diag([1-(2*tau*1j/(h**2) + tau*1j*(np.abs(u_value[i])**2 + np.abs(v_value[i])**2 + alpha*np.abs(v_value[i])**4)) for i in range(len(u_value))])\n",
    "    \n",
    "    val_mat = upper_diagonal + lower_diagonal + main_diagonal\n",
    "    val_mat[(m - 1, 0)] = (1j * tau) / (h ** 2)\n",
    "    val_mat[(0, m - 1)] = (1j * tau) / (h ** 2)\n",
    "    \n",
    "    return val_mat"
   ],
   "id": "a3af3acee1f984e5",
   "execution_count": 125,
   "outputs": []
  },
  {
   "metadata": {},
   "cell_type": "markdown",
   "source": "We can now solve for all values of $u$ and $v$ for each time at $k=0,1,\\ldots$:",
   "id": "981ebfc989df4a"
  },
  {
   "metadata": {
    "ExecuteTime": {
     "end_time": "2024-05-07T11:52:39.059797Z",
     "start_time": "2024-05-07T11:52:39.045337Z"
    }
   },
   "cell_type": "code",
   "source": [
    "u[:, 1] = np.matmul(first_layer_matrix_u_f(u[:, 0], v[:, 0]), u[:, 0])\n",
    "v[:, 1] = np.matmul(first_layer_matrix_u_f(u[:, 0], v[:, 0]), v[:, 0])"
   ],
   "id": "e5b45ca564005873",
   "execution_count": 126,
   "outputs": []
  },
  {
   "metadata": {
    "ExecuteTime": {
     "end_time": "2024-05-07T11:52:58.395442Z",
     "start_time": "2024-05-07T11:52:39.060793Z"
    }
   },
   "cell_type": "code",
   "source": [
    "for k in range(1, n-1):\n",
    "    u[:, k + 1] = u[:, k - 1] + np.matmul(layer_matrix_u_f(u[:, k], v[:, k]), u[:, k])\n",
    "    v[:, k + 1] = v[:, k - 1] + np.matmul(layer_matrix_v_f(u[:, k], v[:, k]), v[:, k])"
   ],
   "id": "7241cd9a08c4bc8d",
   "execution_count": 127,
   "outputs": []
  },
  {
   "metadata": {},
   "cell_type": "code",
   "source": "",
   "id": "fb2a9b1b1da118c9",
   "execution_count": null,
   "outputs": []
  }
 ],
 "metadata": {
  "kernelspec": {
   "display_name": "Python 3",
   "language": "python",
   "name": "python3"
  },
  "language_info": {
   "codemirror_mode": {
    "name": "ipython",
    "version": 2
   },
   "file_extension": ".py",
   "mimetype": "text/x-python",
   "name": "python",
   "nbconvert_exporter": "python",
   "pygments_lexer": "ipython2",
   "version": "2.7.6"
  }
 },
 "nbformat": 4,
 "nbformat_minor": 5
}

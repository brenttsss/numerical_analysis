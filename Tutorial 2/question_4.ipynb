{
 "cells": [
  {
   "cell_type": "code",
   "execution_count": 41,
   "id": "initial_id",
   "metadata": {
    "collapsed": true,
    "ExecuteTime": {
     "end_time": "2024-03-27T12:49:03.145538Z",
     "start_time": "2024-03-27T12:49:03.130538Z"
    }
   },
   "outputs": [],
   "source": [
    "import matplotlib.pyplot as plt\n",
    "import numpy as np\n",
    "from scipy.integrate import odeint\n",
    "from scipy.linalg import solve\n",
    "from scipy.linalg import norm\n",
    "from scipy.integrate import solve_ivp\n",
    "from function_list import *\n",
    "plt.rcParams['text.usetex'] = True"
   ]
  },
  {
   "cell_type": "markdown",
   "source": [
    "### Tutorial 2: Question 4\n",
    "We seek to solve the following boundary value problem \n",
    "\\begin{equation}\n",
    "y'' = -\\frac{2}{x}y' + \\frac{2}{x^2}y+\\frac{\\sin(\\ln x)}{x^2},\\quad y(1)=1,\\quad y(2)=2\n",
    "\\end{equation}\n",
    "using the shooting method and the finite difference method."
   ],
   "metadata": {
    "collapsed": false
   },
   "id": "4c7f0ff331b99342"
  },
  {
   "cell_type": "markdown",
   "source": [
    "#### Shooting Method\n",
    "The boundary value problem can be expressed as two first order differential equations\n",
    "\\begin{equation}\n",
    "\\begin{cases}\n",
    "y'=u \\\\\n",
    "u'=-\\frac{2}{x}u+\\frac{2}{x^2}y+\\frac{\\sin(\\ln x)}{x^2}\n",
    "\\end{cases}\n",
    "\\end{equation}\n",
    "with initial conditions $y(1)=1$ and $y'(1)=p$."
   ],
   "metadata": {
    "collapsed": false
   },
   "id": "d4e6b160673829cf"
  },
  {
   "cell_type": "code",
   "outputs": [],
   "source": [
    "def f(x, y):\n",
    "    return y[1], -(2/x)*y[1]+(2/(x**2))*y[0]+(np.sin(np.log(x)))/(x**2)"
   ],
   "metadata": {
    "collapsed": false,
    "ExecuteTime": {
     "end_time": "2024-03-27T12:49:03.208543Z",
     "start_time": "2024-03-27T12:49:03.187537Z"
    }
   },
   "id": "79a3957a4cd03727",
   "execution_count": 42
  },
  {
   "cell_type": "markdown",
   "source": [
    "We can determine an approximate interval $c\\leq p\\leq d$ such that\n",
    "\\begin{equation}\n",
    "\\begin{cases}\n",
    "y(2)-2 < 0,&\\quad p=c \\\\\n",
    "y(2)-2 > 0,&\\quad p=d\n",
    "\\end{cases}\n",
    "\\end{equation}"
   ],
   "metadata": {
    "collapsed": false
   },
   "id": "a372960773fdaf99"
  },
  {
   "cell_type": "code",
   "outputs": [
    {
     "name": "stdout",
     "output_type": "stream",
     "text": [
      "p=0.00000, greater than\n",
      "p=0.22222, greater than\n",
      "p=0.44444, greater than\n",
      "p=0.66667, greater than\n",
      "p=0.88889, greater than\n",
      "p=1.11111, less than\n",
      "p=1.33333, less than\n",
      "p=1.55556, less than\n",
      "p=1.77778, less than\n",
      "p=2.00000, less than\n"
     ]
    }
   ],
   "source": [
    "x = np.linspace(1, 2, 100)\n",
    "for i in np.linspace(0, 2, 10):\n",
    "    yprime = i\n",
    "    y0 = [1, yprime]\n",
    "    \n",
    "    sol = solve_ivp(f, [1, 2], y0, t_eval=x)\n",
    "    y = sol.y[0, :]\n",
    "\n",
    "    if y[-1] - 2 < 0:\n",
    "        print('p={:.5f}, greater than'.format(i))\n",
    "    elif y[-1] - 2 > 0:\n",
    "        print('p={:.5f}, less than'.format(i))\n",
    "    "
   ],
   "metadata": {
    "collapsed": false,
    "ExecuteTime": {
     "end_time": "2024-03-27T12:49:03.239045Z",
     "start_time": "2024-03-27T12:49:03.210538Z"
    }
   },
   "id": "cf2c129d29ea55c7",
   "execution_count": 43
  },
  {
   "cell_type": "markdown",
   "source": [
    "We observe that $p$ lies in the approximate interval $0.89\\leq p\\leq 1.11$. We can now implement the bisection method to find $p$ such that \n",
    "\\begin{equation}\n",
    "|y_{n-1}-y_n|<\\varepsilon\n",
    "\\end{equation}\n",
    "where $\\varepsilon$ is a set tolerance."
   ],
   "metadata": {
    "collapsed": false
   },
   "id": "cc667bd9f2fa8b9a"
  },
  {
   "cell_type": "code",
   "outputs": [],
   "source": [
    "def shooting_method_f(p, x, tol=10**(-6)):\n",
    "    pstart, pend = p\n",
    "    n_iterations = 0\n",
    "\n",
    "    while np.abs(pend - pstart) > tol:\n",
    "        updated_p = (pend + pstart) / 2\n",
    "        y0 = [1, updated_p]\n",
    "        sol = solve_ivp(f, [1, 2], y0, t_eval=x)\n",
    "        y = sol.y[0, :]\n",
    "\n",
    "        if y[-1] - 2 < 0:\n",
    "            pstart = updated_p\n",
    "        elif y[-1] - 2 > 0:\n",
    "            pend = updated_p\n",
    "\n",
    "        diff = np.abs(pend - pstart)\n",
    "        n_iterations += 1\n",
    "\n",
    "    return [y, n_iterations]"
   ],
   "metadata": {
    "collapsed": false,
    "ExecuteTime": {
     "end_time": "2024-03-27T12:49:03.255050Z",
     "start_time": "2024-03-27T12:49:03.241045Z"
    }
   },
   "id": "d529878bc14dad25",
   "execution_count": 44
  },
  {
   "cell_type": "markdown",
   "source": [
    "We can now plot the solution obtained by the shooting method along with the exact solution \n",
    "\\begin{equation}\n",
    "y(x)=c_1 x + \\frac{c_2}{x^2}-\\frac{3}{10}\\sin(\\ln x) - \\frac{1}{10}\\cos(\\ln x)\n",
    "\\end{equation}\n",
    "where \n",
    "\\begin{equation}\n",
    "c_2 = \\frac{1}{70}\\left[8-12\\sin(\\ln 2) - 4\\cos(\\ln 2)\\right],\\quad c_1 = \\frac{11}{10}-c_2\n",
    "\\end{equation}"
   ],
   "metadata": {
    "collapsed": false
   },
   "id": "b0332702b4c3fdf5"
  },
  {
   "cell_type": "code",
   "outputs": [
    {
     "data": {
      "text/plain": "<Figure size 640x480 with 1 Axes>",
      "image/png": "[encoded data removed]"
     },
     "metadata": {},
     "output_type": "display_data"
    }
   ],
   "source": [
    "def exact_f(x):\n",
    "    \n",
    "    def c_2():\n",
    "        return (1/70)*(8-12*np.sin(np.log(2))-4*np.cos(np.log(2)))\n",
    "    \n",
    "    def c_1(c_2):\n",
    "        return (11/10) - c_2\n",
    "    \n",
    "    return c_1(c_2())*x + c_2()/(x**2) - (3/10)*np.sin(np.log(x)) - (1/10)*np.cos(np.log(x))\n",
    "\n",
    "y, n_iterations = shooting_method_f([0.89, 1.11], x)\n",
    "\n",
    "plt.plot(x, y, label='Shooting method')\n",
    "plt.plot(x, exact_f(x), label='Exact solution')\n",
    "plt.title(r'Shooting Method, {} iterations'.format(n_iterations))\n",
    "plt.xlabel(r'$x$')\n",
    "plt.ylabel(r'$y$')\n",
    "plt.legend()\n",
    "plt.show()"
   ],
   "metadata": {
    "collapsed": false,
    "ExecuteTime": {
     "end_time": "2024-03-27T12:49:03.460094Z",
     "start_time": "2024-03-27T12:49:03.257045Z"
    }
   },
   "id": "f7760d3b1f522246",
   "execution_count": 45
  },
  {
   "cell_type": "markdown",
   "source": [
    "#### Finite Difference Method\n",
    "Expressing the boundary value problem as\n",
    "\\begin{equation}\n",
    "F(y)=\n",
    "\\begin{cases}\n",
    "y''+\\frac{2}{x}y'-\\frac{2}{x^2}y-\\frac{\\sin(\\ln x)}{x^2}=0 \\\\\n",
    "y(1) - 1 = 0 \\\\\n",
    "y(2) - 2 = 0\n",
    "\\end{cases}\n",
    "\\end{equation}\n"
   ],
   "metadata": {
    "collapsed": false
   },
   "id": "f7aa0073e465b9af"
  },
  {
   "cell_type": "markdown",
   "source": [
    "The Fréchet derivative is\n",
    "\\begin{equation}\n",
    "F'(z)=\n",
    "\\begin{cases}\n",
    "z''+\\frac{2}{x}z'-\\frac{2}{x^2}z \\\\\n",
    "z(1) \\\\ \n",
    "z(2)\n",
    "\\end{cases}\n",
    "\\end{equation}"
   ],
   "metadata": {
    "collapsed": false
   },
   "id": "9b441d7565507c81"
  },
  {
   "cell_type": "markdown",
   "source": [
    "Then the Newton-Kantorovich equation $F'z=-F$ is\n",
    "\\begin{align}\n",
    "z''+\\frac{2}{x}z'-\\frac{2}{x^2}z &= -\\left[y''+\\frac{2}{x}y'-\\frac{2}{x^2}y-\\frac{\\sin(\\ln x)}{x^2}\\right] \\\\\n",
    "z(1) &= -\\left[ y(1) - 1 \\right] \\\\\n",
    "z(2) &= -\\left[ y(2) - 2 \\right]\n",
    "\\end{align}"
   ],
   "metadata": {
    "collapsed": false
   },
   "id": "aedd8623107a2dfe"
  },
  {
   "cell_type": "markdown",
   "source": [
    "We now want to solve this system using finite differences. Let $h$ be the space step such that\n",
    "\\begin{equation}\n",
    "h=\\frac{b-a}{N}\n",
    "\\end{equation}\n",
    "so there are $N+1$ points and $N$ spacings between those points of width $h$."
   ],
   "metadata": {
    "collapsed": false
   },
   "id": "3e955607199eadc2"
  },
  {
   "cell_type": "code",
   "outputs": [],
   "source": [
    "a, b = [1, 2] # [start point, end point]\n",
    "N = 1000 # number of points\n",
    "h = (b-a)/N # space width\n",
    "x = np.linspace(a, b, N+1) # space interval\n",
    "tol = 10**(-6) # tolerance"
   ],
   "metadata": {
    "collapsed": false,
    "ExecuteTime": {
     "end_time": "2024-03-27T12:49:03.476096Z",
     "start_time": "2024-03-27T12:49:03.461090Z"
    }
   },
   "id": "94fe7c02a2d17e8b",
   "execution_count": 46
  },
  {
   "cell_type": "markdown",
   "source": [
    "Substituting the centred finite differences into the Newton-Kantorovich equation \n",
    "\\begin{align}\n",
    "\\frac{z_{j-1} - 2z_j + z_{j+1}}{h^2} + \\frac{2}{x_j}\\frac{z_{j+1}-z_{j-1}}{2h} - \\frac{2}{x_j^2}z_j &= -\\left[ \\frac{y_{j-1} - 2y_j + y_{j+1}}{h^2} + \\frac{2}{x_j}\\frac{y_{j+1}-y_{j-1}}{2h} - \\frac{2}{x_j^2}y_j - \\frac{\\sin(\\ln x_j )}{x_j^2} \\right] \\\\\n",
    "z_1 &= -\\left[ y_1 - 1\\right] \\\\\n",
    "z_{N+1} &= -\\left[y_{N+1} - 2 \\right]\n",
    "\\end{align}"
   ],
   "metadata": {
    "collapsed": false
   },
   "id": "cf75b02aaef1070d"
  },
  {
   "cell_type": "markdown",
   "source": [
    "Factoring the left hand side in terms of $z$\n",
    "\\begin{align}\n",
    "z_{j-1}\\left[\\frac{1}{h^2} - \\frac{1}{x_j}\\frac{1}{h}\\right] + z_j\\left[-\\frac{2}{h^2}-\\frac{2}{x_j^2}\\right] + z_{j+1}\\left[\\frac{1}{h^2}+\\frac{1}{x_j}\\frac{1}{h}\\right] &= -\\left[ \\frac{y_{j-1} - 2y_j + y_{j+1}}{h^2} + \\frac{2}{x_j}\\frac{y_{j+1}-y_{j-1}}{2h} - \\frac{2}{x_j^2}y_j - \\frac{\\sin(\\ln x_j )}{x_j^2} \\right] \\\\\n",
    "z_1 &= -\\left[ y_1 - 1\\right] \\\\\n",
    "z_{N+1} &= -\\left[y_{N+1} - 2 \\right]\n",
    "\\end{align}"
   ],
   "metadata": {
    "collapsed": false
   },
   "id": "87f5be64a2dd53ad"
  },
  {
   "cell_type": "markdown",
   "source": [
    "We can now express $F^{\\,\\prime}$ as a Jacobian matrix"
   ],
   "metadata": {
    "collapsed": false
   },
   "id": "8c7c06ef66a45e83"
  },
  {
   "cell_type": "code",
   "outputs": [],
   "source": [
    "def jacobian_f(N, x, y, h):\n",
    "    jacobian = np.zeros((N+1, N+1))\n",
    "    \n",
    "    jacobian[(0,0)] = 1\n",
    "    jacobian[(N,N)] = 1\n",
    "    \n",
    "    diag_1, diag_2, diag_3 = [], [], []\n",
    "    \n",
    "    for i in range(1,N):\n",
    "        diag_1.append(1/(h**2) - (1/x[i])*(1/h))\n",
    "        diag_2.append(-(2/(h**2))-(2/x[i]**2))\n",
    "        diag_3.append(1/(h**2) + (1/x[i])*(1/h))\n",
    "        \n",
    "    np.fill_diagonal(jacobian[1:, :N - 1], diag_1)\n",
    "    np.fill_diagonal(jacobian[1:N, 1:N], diag_2)\n",
    "    np.fill_diagonal(jacobian[1:N + 1, 2:N + 1], diag_3)\n",
    "\n",
    "    return jacobian"
   ],
   "metadata": {
    "collapsed": false,
    "ExecuteTime": {
     "end_time": "2024-03-27T12:49:03.492090Z",
     "start_time": "2024-03-27T12:49:03.477091Z"
    }
   },
   "id": "99b409bf635c767e",
   "execution_count": 47
  },
  {
   "cell_type": "markdown",
   "source": [
    "Similarly, we can express $-F$ as a vector to solve $F'z=-F$"
   ],
   "metadata": {
    "collapsed": false
   },
   "id": "7caa2453ea38da42"
  },
  {
   "cell_type": "code",
   "outputs": [],
   "source": [
    "def finite_diff_first(y2, y1, h):\n",
    "    return (y2-y1)/(2*h)\n",
    "\n",
    "def finite_diff_second(y3, y2, y1, h):\n",
    "    return (y1 -2*y2 + y3)/(h**2)\n",
    "\n",
    "\n",
    "def vec_f(N, x, y, h):\n",
    "    A = np.zeros(N + 1)\n",
    "    \n",
    "    A[0] = -y[0] + 1\n",
    "    A[N] = -y[N] + 2\n",
    "\n",
    "    for i in range(1, N):\n",
    "        A[i] = (-finite_diff_second(y[i+1], y[i], y[i-1], h) - (2/x[i])*finite_diff_first(y[i+1], y[i-1], h)\n",
    "                +(2/x[i]**2)*y[i] + (np.sin(np.log(x[i]))/x[i]**2))\n",
    "\n",
    "    return A"
   ],
   "metadata": {
    "collapsed": false,
    "ExecuteTime": {
     "end_time": "2024-03-27T12:49:03.508093Z",
     "start_time": "2024-03-27T12:49:03.493090Z"
    }
   },
   "id": "c301f821b6260c4d",
   "execution_count": 48
  },
  {
   "cell_type": "markdown",
   "source": [
    "We can now create a while loop to iteratively solve for $\\vec{y}$ with corrections $\\vec{z}$"
   ],
   "metadata": {
    "collapsed": false
   },
   "id": "84a7939ccac27b10"
  },
  {
   "cell_type": "code",
   "outputs": [],
   "source": [
    "def newton_kantorovich_method_f(N, x, y, h, tol=10**(-6)):\n",
    "    n_iterations = 0\n",
    "    A = vec_f(N, x, y, h)\n",
    "\n",
    "    while norm(A) > tol and n_iterations < 100:\n",
    "        jacobian = jacobian_f(N, x, y, h)\n",
    "        z = solve(jacobian, A)\n",
    "        y = y + z\n",
    "        A = vec_f(N, x, y, h)\n",
    "        n_iterations = n_iterations + 1\n",
    "\n",
    "    return [y, n_iterations]"
   ],
   "metadata": {
    "collapsed": false,
    "ExecuteTime": {
     "end_time": "2024-03-27T12:49:03.523606Z",
     "start_time": "2024-03-27T12:49:03.509093Z"
    }
   },
   "id": "609b65a7ea87b613",
   "execution_count": 49
  },
  {
   "cell_type": "markdown",
   "source": [
    "We can now test this using the values obtained from the shooting method as the ansatz for $y$ "
   ],
   "metadata": {
    "collapsed": false
   },
   "id": "410a9b1f93b070c6"
  },
  {
   "cell_type": "code",
   "outputs": [
    {
     "data": {
      "text/plain": "<Figure size 640x480 with 1 Axes>",
      "image/png": "[encoded data removed]"
     },
     "metadata": {},
     "output_type": "display_data"
    }
   ],
   "source": [
    "y_ansatz = shooting_method_f([0.89, 1.11], x)[0]\n",
    "y, n_iterations = newton_kantorovich_method_f(N, x, y_ansatz, h)\n",
    "plt.plot(x, y, label=r'Finite difference method')\n",
    "plt.plot(x, exact_f(x), label=r'Exact')\n",
    "plt.xlabel(r'$x$')\n",
    "plt.ylabel(r'$y$')\n",
    "plt.title(r'Finite Difference Method, {} iteration'.format(n_iterations))\n",
    "plt.legend(loc='best')\n",
    "plt.show()"
   ],
   "metadata": {
    "collapsed": false,
    "ExecuteTime": {
     "end_time": "2024-03-27T12:49:04.842696Z",
     "start_time": "2024-03-27T12:49:03.524607Z"
    }
   },
   "id": "1bda448df3effdb1",
   "execution_count": 50
  }
 ],
 "metadata": {
  "kernelspec": {
   "display_name": "Python 3",
   "language": "python",
   "name": "python3"
  },
  "language_info": {
   "codemirror_mode": {
    "name": "ipython",
    "version": 2
   },
   "file_extension": ".py",
   "mimetype": "text/x-python",
   "name": "python",
   "nbconvert_exporter": "python",
   "pygments_lexer": "ipython2",
   "version": "2.7.6"
  }
 },
 "nbformat": 4,
 "nbformat_minor": 5
}

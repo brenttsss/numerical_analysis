{
 "cells": [
  {
   "cell_type": "code",
   "execution_count": 1,
   "id": "initial_id",
   "metadata": {
    "collapsed": true,
    "ExecuteTime": {
     "end_time": "2024-03-26T18:53:45.283795Z",
     "start_time": "2024-03-26T18:53:44.553775Z"
    }
   },
   "outputs": [],
   "source": [
    "import numpy as np\n",
    "from scipy.integrate import odeint\n",
    "from scipy.linalg import solve\n",
    "from scipy.linalg import norm\n",
    "from scipy.integrate import solve_ivp\n",
    "from function_list import *\n",
    "plt.rcParams['text.usetex'] = True"
   ]
  },
  {
   "cell_type": "markdown",
   "source": [
    "### Tutorial 2: Question 5\n",
    "We seek to solve the following boundary value problem \n",
    "\\begin{equation}\n",
    "yy''+(y')^2 + 1 = 0, \\quad y(1)=1, \\quad y(2)=0\n",
    "\\end{equation}\n",
    "using the Newton-Kantorovich method."
   ],
   "metadata": {
    "collapsed": false
   },
   "id": "759dbdca399ec087"
  },
  {
   "cell_type": "markdown",
   "source": [
    "Expressing the boundary value problem as\n",
    "\\begin{equation}\n",
    "F(y)=\n",
    "\\begin{cases}\n",
    "y''+\\frac{(y')^2}{y}+\\frac{1}{y}=0 \\\\\n",
    "y(1)-1=0 \\\\\n",
    "y(2) = 0\n",
    "\\end{cases}\n",
    "\\end{equation}"
   ],
   "metadata": {
    "collapsed": false
   },
   "id": "2718043d31f45135"
  },
  {
   "cell_type": "markdown",
   "source": [
    "The Fréchet derivative is\n",
    "\\begin{equation}\n",
    "F'(z)=\n",
    "\\begin{cases}\n",
    "z''-\\frac{z(y')^2}{y^2} + \\frac{2y'z'}{y}-\\frac{z}{y^2} \\\\\n",
    "z(1) = 0 \\\\\n",
    "z(2) = 0\n",
    "\\end{cases}\n",
    "\\end{equation}"
   ],
   "metadata": {
    "collapsed": false
   },
   "id": "8f69427947e31537"
  },
  {
   "cell_type": "markdown",
   "source": [
    "Then the Newton-Kantorovich equation $F'z=-F$ is\n",
    "\\begin{align}\n",
    "z''-\\frac{z(y')^2}{y^2} + \\frac{2y'z'}{y}-\\frac{z}{y^2} &= -\\left[ y''+\\frac{(y')^2}{y}+\\frac{1}{y} \\right] \\\\\n",
    "z(1) &= -\\left[ y(1)-1 \\right] \\\\\n",
    "z(2) &= -y(2)\n",
    "\\end{align}"
   ],
   "metadata": {
    "collapsed": false
   },
   "id": "350c0b2523b21a93"
  },
  {
   "cell_type": "markdown",
   "source": [
    "We now want to solve this system using finite differences. Let $h$ be the space step such that\n",
    "\\begin{equation}\n",
    "h=\\frac{b-a}{N}\n",
    "\\end{equation}\n",
    "so there are $N+1$ points and $N$ spacings between those points of width $h$."
   ],
   "metadata": {
    "collapsed": false
   },
   "id": "a63f0718bf656575"
  },
  {
   "cell_type": "code",
   "outputs": [],
   "source": [
    "a, b = [1, 2] # [start point, end point]\n",
    "N = 100 # number of points\n",
    "h = (b-a)/N # space width\n",
    "x = np.linspace(a, b, N+1) # space interval\n",
    "tol = 10**(-6) # tolerance"
   ],
   "metadata": {
    "collapsed": false,
    "ExecuteTime": {
     "end_time": "2024-03-26T18:53:45.299314Z",
     "start_time": "2024-03-26T18:53:45.284795Z"
    }
   },
   "id": "9046e25f49efc7f4",
   "execution_count": 2
  },
  {
   "cell_type": "markdown",
   "source": [
    "Substituting centered finite differences into the Newton-Kantorovich method\n",
    "\\begin{align}\n",
    "\\frac{z_{j-1} - 2z_j + z_{j+1}}{h^2} - z_j\\left(\\frac{y_{j+1}-y_{j-1}}{2h}\\right)^2\\frac{1}{y_j^2}+2\\left(\\frac{y_{j+1}-y_{j-1}}{2h}\\right)\\left(\\frac{z_{j+1}-z_{j-1}}{2h}\\right)\\frac{1}{y_j} - z_j\\frac{1}{y_j^2} &= -\\left[\\frac{y_{j-1} - 2y_j + y_{j+1}}{h^2} + \\left(\\frac{y_{j+1}-y_{j-1}}{2h}\\right)^2\\frac{1}{y_j} + \\frac{1}{y_j}\\right] \\\\\n",
    "z_1 &= -y_1 + 1 \\\\\n",
    "z_{N+1} &= -y_{N+1}\n",
    "\\end{align}"
   ],
   "metadata": {
    "collapsed": false
   },
   "id": "96e98eb87f65c883"
  },
  {
   "cell_type": "markdown",
   "source": [
    "Factoring the left hand side in terms of $z$\n",
    "\\begin{align}\n",
    "z_{j-1}\\left[\\frac{1}{h^2} -\\frac{1}{h} \\left(\\frac{y_{j+1}-y_{j-1}}{2h}\\right)\\frac{1}{y_j} \\right] + z_j \\left[ -\\frac{2}{h^2} - \\left(\\frac{y_{j+1}-y_{j-1}}{2h}\\right)^2\\frac{1}{y_j^2}-\\frac{1}{y_j^2}\\right] + z_{j+1}\\left[\\frac{1}{h^2} + \\frac{1}{h}\\left(\\frac{y_{j+1}-y_{j-1}}{2h}\\right)\\frac{1}{y_j}\\right] &= -\\left[\\frac{y_{j-1} - 2y_j + y_{j+1}}{h^2} + \\left(\\frac{y_{j+1}-y_{j-1}}{2h}\\right)^2\\frac{1}{y_j} + \\frac{1}{y_j}\\right] \\\\\n",
    "z_1 &= -y_1 + 1 \\\\\n",
    "z_{N+1} &= -y_{N+1}\n",
    "\\end{align}"
   ],
   "metadata": {
    "collapsed": false
   },
   "id": "db0b92f908fcc04e"
  },
  {
   "cell_type": "markdown",
   "source": [
    "We can now express $F'$ as a Jacobian matrix"
   ],
   "metadata": {
    "collapsed": false
   },
   "id": "ace82782d6337231"
  },
  {
   "cell_type": "code",
   "outputs": [],
   "source": [
    "def jacobian_f(N, x, y, h):\n",
    "    jacobian = np.zeros((N+1, N+1)) # creates an N+1 by N+1 dimension array\n",
    "    \n",
    "    jacobian[(0, 0)] = 1 # first element of the Jacobian matrix\n",
    "    \n",
    "    jacobian[(N, N)] = 1 # last element of the Jacobian matrix\n",
    "    \n",
    "    diag_1 = []\n",
    "    diag_2 = []\n",
    "    diag_3 = []\n",
    "\n",
    "    for i in range(1, N):\n",
    "        diag_1.append((1/(h**2)) - (1/h)*((y[i+1] - y[i-1])/(2*h))*(1/y[i]))\n",
    "        diag_2.append(-(2/(h**2))-(((y[i+1] - y[i-1])/(2*h))**2)*(1/y[i]**2)-(1/y[i]**2))\n",
    "        diag_3.append((1/(h**2)) + (1/h)*((y[i+1] - y[i-1])/(2*h))*(1/y[i]))\n",
    "\n",
    "    np.fill_diagonal(jacobian[1:, :N - 1], diag_1)\n",
    "    np.fill_diagonal(jacobian[1:N, 1:N], diag_2)\n",
    "    np.fill_diagonal(jacobian[1:N + 1, 2:N + 1], diag_3)\n",
    "\n",
    "    return jacobian"
   ],
   "metadata": {
    "collapsed": false,
    "ExecuteTime": {
     "end_time": "2024-03-26T18:53:45.314445Z",
     "start_time": "2024-03-26T18:53:45.300314Z"
    }
   },
   "id": "6432be104c171989",
   "execution_count": 3
  },
  {
   "cell_type": "markdown",
   "source": [
    "Similarly, we can express $-F$ as a vector to solve $F'z=-F$"
   ],
   "metadata": {
    "collapsed": false
   },
   "id": "69a98f601e4c5c9f"
  },
  {
   "cell_type": "code",
   "outputs": [],
   "source": [
    "def vec_f(N, x, y, h):\n",
    "    A = np.zeros(N + 1)\n",
    "    \n",
    "    A[0] = -y[0]+1\n",
    "    A[N] = -y[N]\n",
    "\n",
    "    for i in range(1, N):\n",
    "        A[i] = (-(y[i-1]-2*y[i]+y[i+1])/(h**2) - (((y[i+1] - y[i-1])/(2*h))**2)*(1/y[i]) - (1/y[i]))\n",
    "\n",
    "    return A"
   ],
   "metadata": {
    "collapsed": false,
    "ExecuteTime": {
     "end_time": "2024-03-26T18:53:45.329598Z",
     "start_time": "2024-03-26T18:53:45.315445Z"
    }
   },
   "id": "7b8bc926db1d2065",
   "execution_count": 4
  },
  {
   "cell_type": "markdown",
   "source": [
    "We can now create a while loop to iteratively solve for $\\vec{y}$ with corrections $\\vec{z}$"
   ],
   "metadata": {
    "collapsed": false
   },
   "id": "fdb1345827cb9fe5"
  },
  {
   "cell_type": "code",
   "outputs": [],
   "source": [
    "def newton_kantorovich_method_f(N, x, y, h, tol=10**(-6)):\n",
    "    n_iterations = 0\n",
    "    A = vec_f(N, x, y, h)\n",
    "\n",
    "    while norm(A) > tol and n_iterations < 100:\n",
    "        jacobian = jacobian_f(N, x, y, h)\n",
    "        z = solve(jacobian, A)\n",
    "        y = y + z\n",
    "        A = vec_f(N, x, y, h)\n",
    "        n_iterations = n_iterations + 1\n",
    "\n",
    "    return [y, n_iterations]"
   ],
   "metadata": {
    "collapsed": false,
    "ExecuteTime": {
     "end_time": "2024-03-26T18:53:45.345296Z",
     "start_time": "2024-03-26T18:53:45.331661Z"
    }
   },
   "id": "cf85e3b553f34237",
   "execution_count": 5
  },
  {
   "cell_type": "markdown",
   "source": [
    "We can test this using the ansatz\n",
    "\\begin{equation}\n",
    "y(x) = \\frac{1}{1+x^2}\n",
    "\\end{equation}"
   ],
   "metadata": {
    "collapsed": false
   },
   "id": "7b9e4b4fbdfde0ca"
  },
  {
   "cell_type": "code",
   "outputs": [
    {
     "data": {
      "text/plain": "<Figure size 640x480 with 1 Axes>",
      "image/png": "[encoded data removed]"
     },
     "metadata": {},
     "output_type": "display_data"
    }
   ],
   "source": [
    "def exact_f(x):\n",
    "    return np.sqrt(2*x-x**2)\n",
    "\n",
    "y_ansatz = 1/(1+x**2)\n",
    "y, n_iterations = newton_kantorovich_method_f(N, x, y_ansatz, h)\n",
    "\n",
    "plt.plot(x, y, label=r'Finite difference method')\n",
    "plt.plot(x, exact_f(x), label=r'Exact')\n",
    "plt.legend(loc='best')\n",
    "plt.xlabel(r'$x$')\n",
    "plt.ylabel(r'$y$')\n",
    "plt.show()"
   ],
   "metadata": {
    "collapsed": false,
    "ExecuteTime": {
     "end_time": "2024-03-26T18:53:46.205755Z",
     "start_time": "2024-03-26T18:53:45.346296Z"
    }
   },
   "id": "a21fcd9c3b56703",
   "execution_count": 6
  }
 ],
 "metadata": {
  "kernelspec": {
   "display_name": "Python 3",
   "language": "python",
   "name": "python3"
  },
  "language_info": {
   "codemirror_mode": {
    "name": "ipython",
    "version": 2
   },
   "file_extension": ".py",
   "mimetype": "text/x-python",
   "name": "python",
   "nbconvert_exporter": "python",
   "pygments_lexer": "ipython2",
   "version": "2.7.6"
  }
 },
 "nbformat": 4,
 "nbformat_minor": 5
}

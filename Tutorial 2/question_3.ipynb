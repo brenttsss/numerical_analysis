{
 "cells": [
  {
   "cell_type": "code",
   "execution_count": 96,
   "id": "initial_id",
   "metadata": {
    "collapsed": true,
    "ExecuteTime": {
     "end_time": "2024-03-26T12:06:50.956225Z",
     "start_time": "2024-03-26T12:06:50.948676Z"
    }
   },
   "outputs": [],
   "source": [
    "import numpy as np\n",
    "from scipy.integrate import odeint\n",
    "from scipy.linalg import solve\n",
    "from scipy.linalg import norm\n",
    "from scipy.integrate import solve_ivp\n",
    "from function_list import *\n",
    "plt.rcParams['text.usetex'] = True"
   ]
  },
  {
   "cell_type": "markdown",
   "source": [
    "### Tutorial 2: Question 3\n",
    "We seek to solve the following boundary value problem \n",
    "\\begin{equation}\n",
    "y''=-(y')^2-y+\\ln x, \\quad y(1)=0, \\quad y(2)=\\ln 2\n",
    "\\end{equation}\n",
    "using the shooting method and the finite difference method."
   ],
   "metadata": {
    "collapsed": false
   },
   "id": "5f1b39ae240c2fbc"
  },
  {
   "cell_type": "markdown",
   "source": [
    "Using the boundary conditions, we will set up the interval of integration"
   ],
   "metadata": {
    "collapsed": false
   },
   "id": "841c18dce3cb8da2"
  },
  {
   "cell_type": "code",
   "outputs": [],
   "source": [
    "x = np.linspace(1, 2, 100)"
   ],
   "metadata": {
    "collapsed": false,
    "ExecuteTime": {
     "end_time": "2024-03-26T12:06:51.018666Z",
     "start_time": "2024-03-26T12:06:51.001147Z"
    }
   },
   "id": "e6d06e82c4f2f3cb",
   "execution_count": 97
  },
  {
   "cell_type": "markdown",
   "source": [
    "#### The Shooting Method\n",
    "The equation can be expressed as two first order equations\n",
    "\\begin{equation}\n",
    "\\begin{cases}\n",
    "y'=u\\\\\n",
    "u'=-u^2-y+\\ln x\n",
    "\\end{cases}\n",
    "\\end{equation}"
   ],
   "metadata": {
    "collapsed": false
   },
   "id": "8ccd0cc405a1d866"
  },
  {
   "cell_type": "code",
   "outputs": [],
   "source": [
    "def f(x, y):\n",
    "    return y[1], -y[1]**2 - y[0] + np.log(x)"
   ],
   "metadata": {
    "collapsed": false,
    "ExecuteTime": {
     "end_time": "2024-03-26T12:06:51.035267Z",
     "start_time": "2024-03-26T12:06:51.020666Z"
    }
   },
   "id": "20040958da0a5f15",
   "execution_count": 98
  },
  {
   "cell_type": "markdown",
   "source": [
    "We can determine an approximate interval $c\\leq p\\leq d$ such that\n",
    "\\begin{equation}\n",
    "\\begin{cases}\n",
    "y(2)-\\ln(2) < 0,\\quad&p=c\\\\\n",
    "y(2)-\\ln(2) > 0,\\quad&p=d\n",
    "\\end{cases}\n",
    "\\end{equation}"
   ],
   "metadata": {
    "collapsed": false
   },
   "id": "6c746644f9920ad6"
  },
  {
   "cell_type": "code",
   "outputs": [
    {
     "name": "stdout",
     "output_type": "stream",
     "text": [
      "p=0.50000, greater than\n",
      "p=0.61111, greater than\n",
      "p=0.72222, greater than\n",
      "p=0.83333, greater than\n",
      "p=0.94444, greater than\n",
      "p=1.05556, less than\n",
      "p=1.16667, less than\n",
      "p=1.27778, less than\n",
      "p=1.38889, less than\n",
      "p=1.50000, less than\n"
     ]
    }
   ],
   "source": [
    "for i in np.linspace(0.5, 1.5, 10):\n",
    "    yprime0 = i\n",
    "    y0 = [0, yprime0]\n",
    "\n",
    "    sol = solve_ivp(f, [1, 2], y0, t_eval=x)\n",
    "    y = sol.y[0, :]\n",
    "\n",
    "    if y[-1] - np.log(2) < 0:\n",
    "        print('p={:.5f}, greater than'.format(i))\n",
    "    elif y[-1] - np.log(2) > 0:\n",
    "        print('p={:.5f}, less than'.format(i))"
   ],
   "metadata": {
    "collapsed": false,
    "ExecuteTime": {
     "end_time": "2024-03-26T12:06:51.066938Z",
     "start_time": "2024-03-26T12:06:51.039308Z"
    }
   },
   "id": "ae73e1f1b22d8563",
   "execution_count": 99
  },
  {
   "cell_type": "markdown",
   "source": [
    "We observe that $p$ lies in the approximate interval $0.5\\leq p\\leq 1.5$. We can now implement the bisection method to find $p$ such that \n",
    "\\begin{equation}\n",
    "|y_{n-1}-y_n|<\\varepsilon\n",
    "\\end{equation}\n",
    "where $\\varepsilon$ is a set tolerance."
   ],
   "metadata": {
    "collapsed": false
   },
   "id": "fdd6e07229ebff9a"
  },
  {
   "cell_type": "code",
   "outputs": [],
   "source": [
    "def shooting_method(p, x, tol=10**(-6)):\n",
    "    pstart, pend = p\n",
    "    n_iterations = 0\n",
    "\n",
    "    while np.abs(pend - pstart) > tol:\n",
    "        updated_p = (pend + pstart) / 2\n",
    "        y0 = [0, updated_p]\n",
    "        sol = solve_ivp(f, [1, 2], y0, t_eval=x)\n",
    "        y = sol.y[0, :]\n",
    "\n",
    "        if y[-1] - np.log(2) < 0:\n",
    "            pstart = updated_p\n",
    "        elif y[-1] - np.log(2) > 0:\n",
    "            pend = updated_p\n",
    "\n",
    "        diff = np.abs(pend - pstart)\n",
    "        n_iterations += 1\n",
    "\n",
    "    return [y, n_iterations]"
   ],
   "metadata": {
    "collapsed": false,
    "ExecuteTime": {
     "end_time": "2024-03-26T12:06:51.082476Z",
     "start_time": "2024-03-26T12:06:51.068947Z"
    }
   },
   "id": "7f7665a0feafb3e1",
   "execution_count": 100
  },
  {
   "cell_type": "markdown",
   "source": [
    "We can now plot the solution obtained by the shooting method along with the exact solution \n",
    "\\begin{equation}\n",
    "y(x)=\\ln(x)\n",
    "\\end{equation}"
   ],
   "metadata": {
    "collapsed": false
   },
   "id": "f5e34d47f67da228"
  },
  {
   "cell_type": "code",
   "outputs": [
    {
     "data": {
      "text/plain": "<Figure size 640x480 with 1 Axes>",
      "image/png": "[encoded data removed]"
     },
     "metadata": {},
     "output_type": "display_data"
    }
   ],
   "source": [
    "y, n_iterations = shooting_method([0.5, 1.5], x)\n",
    "plt.plot(x, y, label='Shooting method')\n",
    "plt.plot(x, np.log(x), label='Exact solution')\n",
    "plt.title(r'Shooting Method, {} iterations'.format(n_iterations))\n",
    "plt.xlabel(r'$x$')\n",
    "plt.ylabel(r'$y$')\n",
    "plt.legend()\n",
    "plt.show()"
   ],
   "metadata": {
    "collapsed": false,
    "ExecuteTime": {
     "end_time": "2024-03-26T12:06:51.316652Z",
     "start_time": "2024-03-26T12:06:51.083475Z"
    }
   },
   "id": "c0c7026ff1b3859c",
   "execution_count": 101
  },
  {
   "cell_type": "markdown",
   "source": [
    "#### Finite Differnce Method\n",
    "Expressing the boundary value problem as\n",
    "\\begin{equation}\n",
    "F(y)=\n",
    "\\begin{cases}\n",
    "y''+(y')^2+y-\\ln x \\\\\n",
    "y(1) = 0 \\\\\n",
    "y(2) - \\ln 2 = 0\n",
    "\\end{cases}\n",
    "\\end{equation}"
   ],
   "metadata": {
    "collapsed": false
   },
   "id": "d2b1d5b3f9b8988c"
  },
  {
   "cell_type": "markdown",
   "source": [
    "The Fréchet derivative is\n",
    "\\begin{equation}\n",
    "F'(z)=\n",
    "\\begin{cases}\n",
    "\\left[\\frac{d^2}{dx^2} + 2y'\\frac{d}{dx} + 1\\right] z \\\\\n",
    "z(1) \\\\\n",
    "z(2)\n",
    "\\end{cases}\n",
    "\\end{equation}"
   ],
   "metadata": {
    "collapsed": false
   },
   "id": "f2327816cbd2752"
  },
  {
   "cell_type": "markdown",
   "source": [
    "Then the Newton-Kantorovich equation $F'z=-F$ is\n",
    "\\begin{align}\n",
    "z''+2y'z' + z &= -\\left[ y'' + (y')^2 + y - \\ln x\\right] \\\\\n",
    "z(1) &= -y(1) \\\\\n",
    "z(2) &= -\\left[ y(2) - \\ln 2 \\right]\n",
    "\\end{align}"
   ],
   "metadata": {
    "collapsed": false
   },
   "id": "b9cde6524000d9ad"
  },
  {
   "cell_type": "markdown",
   "source": [
    "We now want to solve this system using finite differences. Let $h$ be the space step such that\n",
    "\\begin{equation}\n",
    "h=\\frac{b-a}{N}\n",
    "\\end{equation}\n",
    "so there are $N+1$ points and $N$ spacings between those points of width $h$."
   ],
   "metadata": {
    "collapsed": false
   },
   "id": "43669e59c8e36681"
  },
  {
   "cell_type": "code",
   "outputs": [],
   "source": [
    "a, b = [1, 2] # [start point, end point]\n",
    "N = 100 # number of points\n",
    "h = (b-a)/N # space width\n",
    "x = np.linspace(a, b, N+1) # space interval\n",
    "tol = 10**(-6) # tolerance"
   ],
   "metadata": {
    "collapsed": false,
    "ExecuteTime": {
     "end_time": "2024-03-26T12:06:51.332098Z",
     "start_time": "2024-03-26T12:06:51.318094Z"
    }
   },
   "id": "ab09aca888122e53",
   "execution_count": 102
  },
  {
   "cell_type": "markdown",
   "source": [
    "Substituting the centred finite differences into the Newton-Kantorovich equation \n",
    "\\begin{align}\n",
    "\\frac{z_{j-1} - 2z_j + z_{j+1}}{h^2} + 2\\frac{y_{j+1}-y_{j-1}}{2h} \\frac{z_{j+1}-z_{j-1}}{2h} + z_j &= - \\left[\\frac{y_{j-1} - 2y_j + y_{j+1}}{h^2} + \\left(\\frac{y_{j+1}-y_{j-1}}{2h}\\right)^2+y_j - \\ln x_j \\right] \\\\\n",
    "z_1 &= - y_1 \\\\\n",
    "z_{N+1} &= -\\left[y_{N+1} - \\ln 2\\right]\n",
    "\\end{align}"
   ],
   "metadata": {
    "collapsed": false
   },
   "id": "f423f1738c2a35d0"
  },
  {
   "cell_type": "markdown",
   "source": [
    "Factoring the left hand side in terms of $z$\n",
    "\\begin{align}\n",
    "z_{j-1}\\left[\\frac{1}{h^2} - \\frac{1}{h}\\left(\\frac{y_{j+1}-y_{j-1}}{2h}\\right)\\right] + z_j\\left[-\\frac{2}{h^2} + 1\\right] + z_{j+1}\\left[\\frac{1}{h^2} + \\frac{1}{h}\\left(\\frac{y_{j+1}-y_{j-1}}{2h}\\right)\\right] &= - \\left[\\frac{y_{j-1} - 2y_j + y_{j+1}}{h^2} + \\left(\\frac{y_{j+1}-y_{j-1}}{2h}\\right)^2+y_j - \\ln x_j \\right] \\\\\n",
    "z_1 &= - y_1 \\\\\n",
    "z_{N+1} &= -\\left[y_{N+1} - \\ln 2\\right]\n",
    "\\end{align}"
   ],
   "metadata": {
    "collapsed": false
   },
   "id": "6b889a153f420e03"
  },
  {
   "cell_type": "markdown",
   "source": [
    "We can now express $F^{\\,\\prime}$ as a Jacobian matrix"
   ],
   "metadata": {
    "collapsed": false
   },
   "id": "983395d08328200b"
  },
  {
   "cell_type": "code",
   "outputs": [],
   "source": [
    "def finite_diff(y2, y1, h):\n",
    "    return (y2-y1)/(2*h)\n",
    "\n",
    "def jacobian_f(N, x, y, h):\n",
    "    jacobian = np.zeros((N+1, N+1))\n",
    "    \n",
    "    jacobian[(0,0)] = 1\n",
    "    jacobian[(N,N)] = 1\n",
    "    \n",
    "    diag_1, diag_2, diag_3 = [], -(2/h**2) + 1, []\n",
    "    \n",
    "    for i in range(1,N):\n",
    "        diag_1.append((1/(h**2))-(1/h)*(finite_diff(y[i+1], y[i-1], h)))\n",
    "        diag_3.append((1/(h**2))+(1/h)*(finite_diff(y[i+1], y[i-1], h)))\n",
    "        \n",
    "    np.fill_diagonal(jacobian[1:, :N - 1], diag_1)\n",
    "    np.fill_diagonal(jacobian[1:N, 1:N], diag_2)\n",
    "    np.fill_diagonal(jacobian[1:N + 1, 2:N + 1], diag_3)\n",
    "\n",
    "    return jacobian"
   ],
   "metadata": {
    "collapsed": false,
    "ExecuteTime": {
     "end_time": "2024-03-26T12:06:51.348145Z",
     "start_time": "2024-03-26T12:06:51.333099Z"
    }
   },
   "id": "bf2206c6e2e9ddd8",
   "execution_count": 103
  },
  {
   "cell_type": "markdown",
   "source": [
    "Similarly, we can express $-F$ as a vector to solve $F'z=-F$"
   ],
   "metadata": {
    "collapsed": false
   },
   "id": "67563304cb434a11"
  },
  {
   "cell_type": "code",
   "outputs": [],
   "source": [
    "def vec_f(N, x, y, h):\n",
    "    A = np.zeros(N + 1)\n",
    "    \n",
    "    A[0] = -y[0]\n",
    "    A[N] = -y[N] + np.log(2)\n",
    "\n",
    "    for i in range(1, N):\n",
    "        A[i] = -((y[i-1]-2*y[i]+y[i+1])/(h**2)) - finite_diff(y[i+1], y[i-1], h)**2 - y[i] + np.log(x[i])\n",
    "\n",
    "    return A"
   ],
   "metadata": {
    "collapsed": false,
    "ExecuteTime": {
     "end_time": "2024-03-26T12:06:51.363670Z",
     "start_time": "2024-03-26T12:06:51.349145Z"
    }
   },
   "id": "b0b23814fc3315b6",
   "execution_count": 104
  },
  {
   "cell_type": "markdown",
   "source": [
    "We can now create a while loop to iteratively solve for $\\vec{y}$ with corrections $\\vec{z}$"
   ],
   "metadata": {
    "collapsed": false
   },
   "id": "b690eb6ece1d76d3"
  },
  {
   "cell_type": "code",
   "outputs": [],
   "source": [
    "def newton_kantorovich_method_f(N, x, y, h, tol=10**(-6)):\n",
    "    n_iterations = 0\n",
    "    A = vec_f(N, x, y, h)\n",
    "\n",
    "    while norm(A) > tol and n_iterations < 100:\n",
    "        jacobian = jacobian_f(N, x, y, h)\n",
    "        z = solve(jacobian, A)\n",
    "        y = y + z\n",
    "        A = vec_f(N, x, y, h)\n",
    "        n_iterations = n_iterations + 1\n",
    "\n",
    "    return [y, n_iterations]"
   ],
   "metadata": {
    "collapsed": false,
    "ExecuteTime": {
     "end_time": "2024-03-26T12:06:51.379715Z",
     "start_time": "2024-03-26T12:06:51.365175Z"
    }
   },
   "id": "d743f56ba13e6f07",
   "execution_count": 105
  },
  {
   "cell_type": "markdown",
   "source": [
    "We can now test this using the values obtained from the shooting method as the ansatz for $y$ "
   ],
   "metadata": {
    "collapsed": false
   },
   "id": "3e94899e58831b"
  },
  {
   "cell_type": "code",
   "outputs": [
    {
     "data": {
      "text/plain": "<Figure size 640x480 with 1 Axes>",
      "image/png": "[encoded data removed]"
     },
     "metadata": {},
     "output_type": "display_data"
    }
   ],
   "source": [
    "y_ansatz = shooting_method([0.5, 1.5], x)[0]\n",
    "y, n_iterations = newton_kantorovich_method_f(N, x, y_ansatz, h)\n",
    "plot_f(x, y_ansatz, y, n_iterations, 'x', 'y')"
   ],
   "metadata": {
    "collapsed": false,
    "ExecuteTime": {
     "end_time": "2024-03-26T12:06:52.166645Z",
     "start_time": "2024-03-26T12:06:51.381715Z"
    }
   },
   "id": "afec602a83423d43",
   "execution_count": 106
  },
  {
   "cell_type": "markdown",
   "source": [
    "We can test this using the ansatz\n",
    "\\begin{equation}\n",
    "y(x) = \\frac{1}{1+x^2}\n",
    "\\end{equation}"
   ],
   "metadata": {
    "collapsed": false
   },
   "id": "5c78d32ceca42a96"
  },
  {
   "cell_type": "code",
   "outputs": [
    {
     "data": {
      "text/plain": "<Figure size 640x480 with 1 Axes>",
      "image/png": "[encoded data removed]"
     },
     "metadata": {},
     "output_type": "display_data"
    }
   ],
   "source": [
    "y_ansatz = 1/(1+x**2)\n",
    "y, n_iterations = newton_kantorovich_method_f(N, x, y_ansatz, h)\n",
    "plot_f(x, y_ansatz, y, n_iterations, 'x', 'y')"
   ],
   "metadata": {
    "collapsed": false,
    "ExecuteTime": {
     "end_time": "2024-03-26T12:06:52.572482Z",
     "start_time": "2024-03-26T12:06:52.167651Z"
    }
   },
   "id": "25f2c7bd6179b78f",
   "execution_count": 107
  }
 ],
 "metadata": {
  "kernelspec": {
   "display_name": "Python 3",
   "language": "python",
   "name": "python3"
  },
  "language_info": {
   "codemirror_mode": {
    "name": "ipython",
    "version": 2
   },
   "file_extension": ".py",
   "mimetype": "text/x-python",
   "name": "python",
   "nbconvert_exporter": "python",
   "pygments_lexer": "ipython2",
   "version": "2.7.6"
  }
 },
 "nbformat": 4,
 "nbformat_minor": 5
}

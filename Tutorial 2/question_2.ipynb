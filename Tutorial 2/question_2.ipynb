{
 "cells": [
  {
   "cell_type": "code",
   "execution_count": 12,
   "id": "initial_id",
   "metadata": {
    "collapsed": true,
    "ExecuteTime": {
     "end_time": "2024-03-25T15:06:59.077935Z",
     "start_time": "2024-03-25T15:06:59.072935Z"
    }
   },
   "outputs": [],
   "source": [
    "import matplotlib.pyplot as plt\n",
    "import numpy as np\n",
    "from scipy.integrate import odeint\n",
    "from scipy.linalg import solve\n",
    "from scipy.linalg import norm\n",
    "from scipy.integrate import solve_ivp\n",
    "from function_list import *\n",
    "plt.rcParams['text.usetex'] = True"
   ]
  },
  {
   "cell_type": "markdown",
   "source": [
    "### Tutorial 2: Question 2\n",
    "We seek to solve the following non-linear boundary value problem\n",
    "\\begin{equation}\n",
    "\\frac{d^2\\phi}{dr^2} + \\frac{1}{r}\\frac{d\\phi}{dr} - \\frac{n^2}{r^2}\\phi + (1-\\phi^2)\\phi = 0, \\quad \\phi(0)=0, \\quad \\phi(\\infty)=1\n",
    "\\end{equation}\n",
    "where $n=1,2,\\ldots$ is the vorticity using the Newton-Kantorovich method."
   ],
   "metadata": {
    "collapsed": false
   },
   "id": "92fec011cc669939"
  },
  {
   "cell_type": "markdown",
   "source": [
    "We begin by first considering the shooting method. Let $h$ be the space step such that\n",
    "\\begin{equation}\n",
    "h=\\frac{b-a}{N}\n",
    "\\end{equation}\n",
    "so that there are $N+1$ points and $N$ spacings between those points of width $h$."
   ],
   "metadata": {
    "collapsed": false
   },
   "id": "74ded4cb5948c23b"
  },
  {
   "cell_type": "code",
   "outputs": [],
   "source": [
    "a, b = [0.001, 7] # [start point, end point]\n",
    "N = 100 # number of points\n",
    "r = np.linspace(a, b, N+1) # space interval\n",
    "tol = 10**(-6) # tolerance"
   ],
   "metadata": {
    "collapsed": false,
    "ExecuteTime": {
     "end_time": "2024-03-25T15:06:59.109278Z",
     "start_time": "2024-03-25T15:06:59.101273Z"
    }
   },
   "id": "814adeb3c882ce50",
   "execution_count": 13
  },
  {
   "cell_type": "markdown",
   "source": [
    "The boundary value problem can be converted into an initial value problem of the form\n",
    "\\begin{equation}\n",
    "\\begin{cases}\n",
    "\\frac{d\\phi}{dr}=\\theta\\\\\n",
    "\\frac{d\\theta}{dr}=-\\frac{1}{r}\\theta + \\frac{n^2}{r^2}\\phi - (1-\\phi^2)\\phi \n",
    "\\end{cases}\n",
    "\\end{equation}\n",
    "with boundary and initial conditions\n",
    "\\begin{equation}\n",
    "\\phi(0)=0,\\quad\\phi'(0)=p\n",
    "\\end{equation}\n"
   ],
   "metadata": {
    "collapsed": false
   },
   "id": "212feed00ac10c85"
  },
  {
   "cell_type": "code",
   "outputs": [
    {
     "name": "stdout",
     "output_type": "stream",
     "text": [
      "p=0.50000, less than\n",
      "p=0.61111, less than\n",
      "p=0.72222, less than\n",
      "p=0.83333, less than\n",
      "p=0.94444, less than\n",
      "p=1.05556, less than\n",
      "p=1.16667, less than\n",
      "p=1.27778, greater than\n",
      "p=1.38889, greater than\n",
      "p=1.50000, greater than\n"
     ]
    }
   ],
   "source": [
    "def f(r, y, n):\n",
    "    return y[1], -(1/r)*y[1] + ((n**2)/(r**2))*y[0] - (1-y[0]**2)*y[0]\n",
    "\n",
    "for i in np.linspace(0.5, 1.5, 10):\n",
    "    n = 1\n",
    "    y0 = [0, i]\n",
    "    sol = solve_ivp(f, [a, b], y0, t_eval=r, args=(n,))\n",
    "    y = sol.y[0,:]\n",
    "    \n",
    "    if y[-1] - 1 > 0:\n",
    "        print('p={:.5f}, greater than'.format(i))\n",
    "    elif y[-1] - 1 < 0:\n",
    "        print('p={:.5f}, less than'.format(i))"
   ],
   "metadata": {
    "collapsed": false,
    "ExecuteTime": {
     "end_time": "2024-03-25T15:06:59.156273Z",
     "start_time": "2024-03-25T15:06:59.110272Z"
    }
   },
   "id": "12e54acdf63e65df",
   "execution_count": 14
  },
  {
   "cell_type": "markdown",
   "source": [
    "We observe that $p$ lies in the approximate interval $1.1\\leq p \\leq 1.3$. We can now implement the bisection method to find $p$ such that\n",
    "\\begin{equation}\n",
    "|\\phi_{n-1}-\\phi_n|< \\varepsilon\n",
    "\\end{equation}\n",
    "where $\\varepsilon$ is a set tolerance."
   ],
   "metadata": {
    "collapsed": false
   },
   "id": "7ca32ca9fa7bcca8"
  },
  {
   "cell_type": "code",
   "outputs": [],
   "source": [
    "def shooting_method(p, r, n, tol=10**(-6)):\n",
    "    pstart, pend = p\n",
    "    n_iterations = 0\n",
    "\n",
    "    while np.abs(pend - pstart) > tol:\n",
    "        updated_p = (pend + pstart) / 2\n",
    "        y0 = [0, updated_p]\n",
    "        sol = solve_ivp(f, [a, b], y0, t_eval=r, args=(n,))\n",
    "        y = sol.y[0, :]\n",
    "\n",
    "        if y[-1] - 1 < 0:\n",
    "            pstart = updated_p\n",
    "        elif y[-1] - 1 > 0:\n",
    "            pend = updated_p\n",
    "\n",
    "        diff = np.abs(pend - pstart)\n",
    "        n_iterations += 1\n",
    "\n",
    "    return [y, n_iterations]"
   ],
   "metadata": {
    "collapsed": false,
    "ExecuteTime": {
     "end_time": "2024-03-25T15:06:59.171272Z",
     "start_time": "2024-03-25T15:06:59.157272Z"
    }
   },
   "id": "148bc30d28af33cf",
   "execution_count": 15
  },
  {
   "cell_type": "markdown",
   "source": [
    "We can now plot the solution obtained by the shooting method."
   ],
   "metadata": {
    "collapsed": false
   },
   "id": "4bbafeea128efed3"
  },
  {
   "cell_type": "code",
   "outputs": [
    {
     "data": {
      "text/plain": "<Figure size 640x480 with 1 Axes>",
      "image/png": "[encoded data removed]"
     },
     "metadata": {},
     "output_type": "display_data"
    }
   ],
   "source": [
    "y, n_iterations = shooting_method([1.1, 1.3], r, 1)\n",
    "plt.plot(r, y)\n",
    "plt.xlabel(r'$r$')\n",
    "plt.ylabel(r'$\\phi$')\n",
    "plt.title(r'Shooting Method, {} iterations'.format(n_iterations))\n",
    "plt.show()"
   ],
   "metadata": {
    "collapsed": false,
    "ExecuteTime": {
     "end_time": "2024-03-25T15:06:59.376326Z",
     "start_time": "2024-03-25T15:06:59.173274Z"
    }
   },
   "id": "658a8a553206cc55",
   "execution_count": 16
  },
  {
   "cell_type": "markdown",
   "source": [
    "The boundary value problem can be expressed as\n",
    "\\begin{equation}\n",
    "F(\\phi) =\n",
    "\\begin{cases}\n",
    "\\frac{d^2\\phi}{dr^2} + \\frac{1}{r}\\frac{d\\phi}{dr} - \\frac{n^2}{r^2}\\phi + (1-\\phi^2)\\phi = 0 \\\\\n",
    "\\phi(0)=0 \\\\\n",
    "\\phi(\\infty) - 1 = 0\n",
    "\\end{cases}\n",
    "\\end{equation}\n"
   ],
   "metadata": {
    "collapsed": false
   },
   "id": "fc68e62122c8c137"
  },
  {
   "cell_type": "markdown",
   "source": [
    "Then the Fréchet derivative is\n",
    "\\begin{equation}\n",
    "F^{\\,\\prime}z = \n",
    "\\begin{cases}\n",
    "\\left[\\frac{d^2}{dr^2} + \\frac{1}{r}\\frac{d}{dr} - \\frac{n^2}{r^2} + 1 - 3\\phi^2\\right]z = 0\\\\\n",
    "z(0)=0 \\\\\n",
    "z(\\infty) = 0\n",
    "\\end{cases}\n",
    "\\end{equation}"
   ],
   "metadata": {
    "collapsed": false
   },
   "id": "b55fb4031a69d800"
  },
  {
   "cell_type": "markdown",
   "source": [
    "Then the Newton-Kantorovich equation $F^{\\,\\prime}z=-F$ is\n",
    "\\begin{align}\n",
    "\\left[\\frac{d^2}{dr^2} + \\frac{1}{r}\\frac{d}{dr} - \\frac{n^2}{r^2} + 1 - 3\\phi^2\\right]z &= -\\left[\\frac{d^2\\phi}{dr^2} + \\frac{1}{r}\\frac{d\\phi}{dr} - \\frac{n^2}{r^2}\\phi + (1-\\phi^2)\\phi\\right] \\\\\n",
    "z(0) &= -\\left[\\phi(0)\\right]\\\\\n",
    "z(\\infty) &= - \\left[\\phi(\\infty) - 1\\right]\n",
    "\\end{align}"
   ],
   "metadata": {
    "collapsed": false
   },
   "id": "d6ab8177ae8c8c9c"
  },
  {
   "cell_type": "markdown",
   "source": [
    "We now want to solve this system using finite differences. Let $h$ be the space step such that\n",
    "\\begin{equation}\n",
    "h=\\frac{b-a}{N}\n",
    "\\end{equation}\n",
    "so there are $N+1$ points and $N$ spacings between those points of width $h$."
   ],
   "metadata": {
    "collapsed": false
   },
   "id": "8a9c876574711140"
  },
  {
   "cell_type": "code",
   "outputs": [],
   "source": [
    "a, b = [0.001, 7] # [start point, end point]\n",
    "N = 100 # number of points\n",
    "h = (b-a)/N # space width\n",
    "r = np.linspace(a, b, N+1) # space interval\n",
    "tol = 10**(-6) # tolerance"
   ],
   "metadata": {
    "collapsed": false,
    "ExecuteTime": {
     "end_time": "2024-03-25T15:06:59.391845Z",
     "start_time": "2024-03-25T15:06:59.378323Z"
    }
   },
   "id": "b6658782177cffa0",
   "execution_count": 17
  },
  {
   "cell_type": "markdown",
   "source": [
    "Substituting the centered differences into the Newton-Kantorovich equation\n",
    "\\begin{align}\n",
    "\\frac{z_{j-1} - 2z_j + z_{j+1}}{h^2} + \\frac{1}{r}\\frac{z_{j+1}-z_{j-1}}{2h}-\\frac{n^2}{r^2}z_j + z_j - 3\\phi_j^2z_j &= -\\left[\\frac{\\phi_{j-1} - 2\\phi_j + \\phi_{j+1}}{h^2} + \\frac{1}{r}\\frac{\\phi_{j+1}-\\phi_{j-1}}{2h} - \\frac{n^2}{r^2}\\phi_j + (1-\\phi_j^2)\\phi_j \\right] \\\\\n",
    "z_1 &= -\\phi_1 \\\\\n",
    "z_{N+1} &= -\\left[\\phi_{N+1} - 1\\right]\n",
    "\\end{align}"
   ],
   "metadata": {
    "collapsed": false
   },
   "id": "489c6f7ca97971e6"
  },
  {
   "cell_type": "markdown",
   "source": [
    "Factoring the left hand side in terms of $z$\n",
    "\\begin{align}\n",
    "z_{j-1}\\left(\\frac{1}{h^2}-\\frac{1}{r}\\frac{1}{2h}\\right) + z_j\\left(-\\frac{2}{h^2} - \\frac{n^2}{r^2} + 1 -3\\phi_j^2\\right) + z_{j+1}\\left(\\frac{1}{h^2} + \\frac{1}{r}\\frac{1}{2h}\\right) &= -\\left[\\frac{\\phi_{j-1} - 2\\phi_j + \\phi_{j+1}}{h^2} + \\frac{1}{r}\\frac{\\phi_{j+1}-\\phi_{j-1}}{2h} - \\frac{n^2}{r^2}\\phi_j + (1-\\phi_j^2)\\phi_j \\right] \\\\\n",
    "z_1 &= -\\phi_1 \\\\\n",
    "z_{N+1} &= -\\left[\\phi_{N+1} - 1\\right]\n",
    "\\end{align}"
   ],
   "metadata": {
    "collapsed": false
   },
   "id": "9b92e917b9c1c63f"
  },
  {
   "cell_type": "markdown",
   "source": [
    "We can now express $F'$ as a Jacobian matrix\n",
    "\\begin{equation}\n",
    "F'=\n",
    "\\begin{pmatrix}\n",
    "1 & 0 & & & \\cdots & 0 \\\\\n",
    "\\frac{1}{h^2}-\\frac{1}{r}\\frac{1}{2h} & -\\frac{2}{h^2} - \\frac{n^2}{r^2} + 1 -3\\phi_2^2 & \\frac{1}{h^2} + \\frac{1}{r}\\frac{1}{2h} & & \\cdots & 0\\\\\n",
    "0& \\frac{1}{h^2}-\\frac{1}{r}\\frac{1}{2h} & -\\frac{2}{h^2} - \\frac{n^2}{r^2} + 1 -3\\phi_3^2 & \\frac{1}{h^2} + \\frac{1}{r}\\frac{1}{2h} & \\cdots & 0\\\\\n",
    "\\vdots & & & & & \\vdots \\\\\n",
    "0 & \\cdots & 0 & \\frac{1}{h^2}-\\frac{1}{r}\\frac{1}{2h} & -\\frac{2}{h^2} - \\frac{n^2}{r^2} + 1 -3\\phi_N^2 & \\frac{1}{h^2} + \\frac{1}{r}\\frac{1}{2h} \\\\\n",
    "0 & 0 & \\cdots & 0 & 0 & 1\n",
    "\\end{pmatrix}\n",
    "\\end{equation}"
   ],
   "metadata": {
    "collapsed": false
   },
   "id": "ff4a71b4b88a8d93"
  },
  {
   "cell_type": "code",
   "outputs": [],
   "source": [
    "def jacobian_f(N, r, phi, h, n):\n",
    "    jacobian = np.zeros((N+1, N+1)) # creates an N+1 by N+1 dimension array\n",
    "    \n",
    "    jacobian[(0, 0)] = 1\n",
    "    jacobian[(0, 1)] = 0\n",
    "    \n",
    "    jacobian[(N, N)] = 1\n",
    "    \n",
    "    diag_1 = []\n",
    "    diag_2 = []\n",
    "    diag_3 = []\n",
    "\n",
    "    for i in range(1, N):\n",
    "        diag_1.append((1/(h**2))-(1/r[i])*(1/(2*h)))\n",
    "        diag_2.append(-(2/(h**2))-((n**2)/(r[i]**2))+1-3*phi[i]**2)\n",
    "        diag_3.append((1/(h**2))+(1/r[i])*(1/(2*h)))\n",
    "\n",
    "    np.fill_diagonal(jacobian[1:, :N - 1], diag_1)\n",
    "    np.fill_diagonal(jacobian[1:N, 1:N], diag_2)\n",
    "    np.fill_diagonal(jacobian[1:N + 1, 2:N + 1], diag_3)\n",
    "\n",
    "    return jacobian"
   ],
   "metadata": {
    "collapsed": false,
    "ExecuteTime": {
     "end_time": "2024-03-25T15:06:59.407850Z",
     "start_time": "2024-03-25T15:06:59.393845Z"
    }
   },
   "id": "381dfb99464b6b8e",
   "execution_count": 18
  },
  {
   "cell_type": "markdown",
   "source": [
    "Similarly, we can express $-F$ as a vector to solve $F'z=-F$\n",
    "\\begin{equation*}\n",
    "-\\vec{F}=\n",
    "\\begin{pmatrix}\n",
    "-\\phi_1 \\\\\n",
    "-\\frac{\\phi_{j-1} - 2\\phi_j + \\phi_{j+1}}{h^2} - \\frac{1}{r}\\frac{\\phi_{j+1}-\\phi_{j-1}}{2h} + \\frac{n^2}{r^2}\\phi_j - (1-\\phi_j^2)\\phi_j  \\\\\n",
    "-\\phi_{N+1} + 1\n",
    "\\end{pmatrix}\n",
    "\\end{equation*}"
   ],
   "metadata": {
    "collapsed": false
   },
   "id": "c95315471a4d4b0d"
  },
  {
   "cell_type": "code",
   "outputs": [],
   "source": [
    "def vec_f(N, r, phi, h, n):\n",
    "    A = np.zeros(N + 1)\n",
    "    A[0] = -phi[0]\n",
    "    A[N] = -phi[N]+1\n",
    "\n",
    "    for i in range(1, N):\n",
    "        A[i] = (-(phi[i-1] - 2*phi[i] + phi[i+1])/(h**2) - (1/r[i])*((phi[i+1]-phi[i-1])/(2*h)) + \n",
    "                ((n**2)/(r[i]**2))*phi[i] - (1-phi[i]**2)*phi[i])\n",
    "\n",
    "    return A"
   ],
   "metadata": {
    "collapsed": false,
    "ExecuteTime": {
     "end_time": "2024-03-25T15:06:59.423845Z",
     "start_time": "2024-03-25T15:06:59.408846Z"
    }
   },
   "id": "aed62f207b558357",
   "execution_count": 19
  },
  {
   "cell_type": "markdown",
   "source": [
    "We can now create a while loop to iteratively solve for $\\vec{y}$ with corrections $\\vec{z}$"
   ],
   "metadata": {
    "collapsed": false
   },
   "id": "d37acc60df3929a6"
  },
  {
   "cell_type": "code",
   "outputs": [],
   "source": [
    "def newton_kantorovich_method_f(N, r, phi, h, n, tol):\n",
    "    n_iterations = 0\n",
    "    A = vec_f(N, r, phi, h, n)\n",
    "\n",
    "    while norm(A) > tol and n_iterations < 100:\n",
    "        jacobian = jacobian_f(N, r, phi, h, n)\n",
    "        z = solve(jacobian, A)\n",
    "        phi = phi + z\n",
    "        A = vec_f(N, r, phi, h, n)\n",
    "        n_iterations = n_iterations + 1\n",
    "\n",
    "    return y, n_iterations"
   ],
   "metadata": {
    "collapsed": false,
    "ExecuteTime": {
     "end_time": "2024-03-25T15:06:59.438849Z",
     "start_time": "2024-03-25T15:06:59.424845Z"
    }
   },
   "id": "c57bac83232f88bd",
   "execution_count": 20
  },
  {
   "cell_type": "markdown",
   "source": [
    "We can now test this using the values obtained from the shooting method as the ansatz for $y$ "
   ],
   "metadata": {
    "collapsed": false
   },
   "id": "c53e3e346bfe8424"
  },
  {
   "cell_type": "code",
   "outputs": [
    {
     "data": {
      "text/plain": "<Figure size 640x480 with 1 Axes>",
      "image/png": "[encoded data removed]"
     },
     "metadata": {},
     "output_type": "display_data"
    }
   ],
   "source": [
    "phi_ansatz = shooting_method([1.1, 1.3], r, 1)[0]\n",
    "phi, n_iterations = newton_kantorovich_method_f(N, r, phi_ansatz, h, 1, tol)\n",
    "plot_f(r, phi_ansatz, y, n_iterations, 'r', '\\phi')"
   ],
   "metadata": {
    "collapsed": false,
    "ExecuteTime": {
     "end_time": "2024-03-25T15:06:59.722911Z",
     "start_time": "2024-03-25T15:06:59.440845Z"
    }
   },
   "id": "cc210a53b6510671",
   "execution_count": 21
  },
  {
   "cell_type": "markdown",
   "source": [
    "We can also test this using a different ansatz\n",
    "\\begin{equation}\n",
    "\\phi(r) = \\frac{1}{1+r^2}\n",
    "\\end{equation}"
   ],
   "metadata": {
    "collapsed": false
   },
   "id": "223d9858b31cf0b0"
  },
  {
   "cell_type": "code",
   "outputs": [
    {
     "data": {
      "text/plain": "<Figure size 640x480 with 1 Axes>",
      "image/png": "[encoded data removed]"
     },
     "metadata": {},
     "output_type": "display_data"
    }
   ],
   "source": [
    "phi_ansatz = 1/(1+r**2)\n",
    "phi, n_iterations = newton_kantorovich_method_f(N, r, phi_ansatz, h, 1, tol)\n",
    "plot_f(r, phi_ansatz, phi, n_iterations, 'r', '\\phi')"
   ],
   "metadata": {
    "collapsed": false,
    "ExecuteTime": {
     "end_time": "2024-03-25T15:07:00.148045Z",
     "start_time": "2024-03-25T15:06:59.724914Z"
    }
   },
   "id": "e0b1c3fbd0655b04",
   "execution_count": 22
  }
 ],
 "metadata": {
  "kernelspec": {
   "display_name": "Python 3",
   "language": "python",
   "name": "python3"
  },
  "language_info": {
   "codemirror_mode": {
    "name": "ipython",
    "version": 2
   },
   "file_extension": ".py",
   "mimetype": "text/x-python",
   "name": "python",
   "nbconvert_exporter": "python",
   "pygments_lexer": "ipython2",
   "version": "2.7.6"
  }
 },
 "nbformat": 4,
 "nbformat_minor": 5
}

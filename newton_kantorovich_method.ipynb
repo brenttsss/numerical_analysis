{
 "cells": [
  {
   "cell_type": "code",
   "execution_count": 355,
   "id": "initial_id",
   "metadata": {
    "ExecuteTime": {
     "end_time": "2024-03-14T20:26:54.226099Z",
     "start_time": "2024-03-14T20:26:54.209100Z"
    },
    "collapsed": true,
    "jupyter": {
     "outputs_hidden": true
    }
   },
   "outputs": [],
   "source": [
    "import numpy as np\n",
    "from scipy.integrate import odeint\n",
    "from scipy.linalg import solve\n",
    "from scipy.linalg import norm\n",
    "import matplotlib.pyplot as plt\n",
    "plt.rcParams['text.usetex'] = True\n",
    "# np.set_printoptions(suppress=True)"
   ]
  },
  {
   "cell_type": "markdown",
   "id": "19135ce585e64baa",
   "metadata": {
    "collapsed": false,
    "jupyter": {
     "outputs_hidden": false
    }
   },
   "source": [
    "Given the following BVP\n",
    "\\begin{equation}\n",
    "\\frac{d^2v}{dr^2} + \\frac{1}{r}\\frac{dv}{dr} - v + 2v^3 = 0\n",
    "\\end{equation}\n",
    "with boundary conditions\n",
    "\\begin{equation}\n",
    "\\frac{dv}{dr}(0)=0,\\quad v(\\infty)=0.\n",
    "\\end{equation}\n",
    "We seek to implement the Newton-Kantorovich method to obtain the monotonically decaying and the one node solutions."
   ]
  },
  {
   "cell_type": "markdown",
   "id": "ee6ab4c2de1265f3",
   "metadata": {
    "collapsed": false,
    "jupyter": {
     "outputs_hidden": false
    }
   },
   "source": [
    "Expressing the BVP as\n",
    "\\begin{equation}\n",
    "F(v)=\n",
    "\\begin{cases}\n",
    "v'' + \\frac{1}{r} v' - v +2v^3=0 \\\\\n",
    "v'(0) = 0\\\\\n",
    "v(\\infty) = 0\n",
    "\\end{cases}\n",
    "\\end{equation}"
   ]
  },
  {
   "cell_type": "markdown",
   "id": "85ca51417d43f4c2",
   "metadata": {
    "collapsed": false,
    "jupyter": {
     "outputs_hidden": false
    }
   },
   "source": [
    "The Fréchèt derivative is\n",
    "\\begin{equation}\n",
    "F^{\\,\\prime}z =\n",
    "\\begin{cases}\n",
    "\\left[\\frac{d^2}{dr^2} + \\frac{1}{r} \\frac{d}{dr} - 1 + 6v^2\\right]z\\\\\n",
    "z'(0)\\\\\n",
    "z(\\infty)\n",
    "\\end{cases}\n",
    "\\end{equation}"
   ]
  },
  {
   "cell_type": "markdown",
   "id": "7f509c34c84c2c53",
   "metadata": {
    "collapsed": false,
    "jupyter": {
     "outputs_hidden": false
    }
   },
   "source": [
    "Then the Newton-Kantorovich equation $F^{\\,\\prime}z=-F$ is\n",
    "\\begin{equation}\n",
    "\\begin{cases}\n",
    "\\left[\\frac{d^2}{dr^2} + \\frac{1}{r} \\frac{d}{dr} - 1 + 6v^2\\right]z = - \\left[ v'' + \\frac{1}{r}v' - v + 2v^3\\right]\\\\\n",
    "z'(0) = -v'(0)\\\\\n",
    "z(\\infty) = -v(\\infty)\n",
    "\\end{cases}\n",
    "\\end{equation}"
   ]
  },
  {
   "cell_type": "markdown",
   "id": "f8d316de7ebfeb9e",
   "metadata": {
    "collapsed": false,
    "jupyter": {
     "outputs_hidden": false
    }
   },
   "source": [
    "We now want to solve using finite differences. Let $h$ be the space-step such that\n",
    "\\begin{equation}\n",
    "h=\\frac{b-a}{N}\n",
    "\\end{equation}\n",
    "so there are $N + 1$ points and $N$ spacings between those points with width $h$. "
   ]
  },
  {
   "cell_type": "code",
   "execution_count": 356,
   "id": "eab774a610992dd7",
   "metadata": {
    "ExecuteTime": {
     "end_time": "2024-03-14T20:26:54.257104Z",
     "start_time": "2024-03-14T20:26:54.244101Z"
    },
    "collapsed": false,
    "jupyter": {
     "outputs_hidden": false
    }
   },
   "outputs": [],
   "source": [
    "a, b = [0.001, 10]\n",
    "N = 10\n",
    "h = (b - a)/N\n",
    "r = np.linspace(a, b, N+1)"
   ]
  },
  {
   "cell_type": "markdown",
   "id": "18995f8063131ac9",
   "metadata": {
    "collapsed": false,
    "jupyter": {
     "outputs_hidden": false
    }
   },
   "source": [
    "We require an ansatz $v(r)$. From the shooting method for the decaying solution"
   ]
  },
  {
   "cell_type": "code",
   "execution_count": 357,
   "id": "9f47ed8ec89c015a",
   "metadata": {
    "ExecuteTime": {
     "end_time": "2024-03-14T20:26:54.289108Z",
     "start_time": "2024-03-14T20:26:54.258100Z"
    },
    "collapsed": false,
    "jupyter": {
     "outputs_hidden": false
    }
   },
   "outputs": [],
   "source": [
    "def f(v, r):\n",
    "    return v[1], -(1/r)*v[1] + v[0] - 2*v[0]**3\n",
    "\n",
    "pstart, pend = [1.5, 2]\n",
    "tol = 10**(-6)\n",
    "diff = np.abs(pend - pstart)\n",
    "\n",
    "while diff > tol:\n",
    "    updated_p = (pend + pstart)/2\n",
    "    v0 = [updated_p, 0]\n",
    "    v = odeint(f, v0, r)\n",
    "\n",
    "    if v[-1][0] < 0:\n",
    "        pend = updated_p\n",
    "    elif v[-1][0] > 0:\n",
    "        pstart = updated_p\n",
    "\n",
    "    diff = np.abs(pend - pstart)\n",
    "\n",
    "v0 = [updated_p, 0]\n",
    "v = odeint(f, v0, r)\n",
    "v = v[:,0]"
   ]
  },
  {
   "cell_type": "markdown",
   "id": "c78b99ba4da3bc40",
   "metadata": {
    "collapsed": false,
    "jupyter": {
     "outputs_hidden": false
    }
   },
   "source": [
    "\n",
    "Substituting the centered, backward, and forward finite differences into the Newton-Kantorovich equation \n",
    "\\begin{align}\n",
    "\\frac{z_{j-1} - 2z_j + z_{j+1}}{h^2} + \\frac{1}{r}\\frac{z_{j+1} - z_{j-1}}{2h}-z_j + 6v_j^2 z_j &= \\frac{v_{j-1}-2v_j+v_{j+1}}{h^2} - \\frac{1}{r}\\frac{v_{j+1} - v_{j-1}}{2h} + v_j - 2v_{j}^3\\\\\n",
    "\\frac{-3z_1 + 4z_2 - z_3}{2h} &= -\\frac{-3v_1 + 4v_2 - v_3}{2h}\\\\\n",
    "z_{N+1} &= -v_{N+1}\n",
    "\\end{align}\n",
    "\n",
    "Expressing the left hand side in terms of $z$ of the new system\n",
    "\\begin{align}\n",
    "z_j\\left(-\\frac{2}{h^2} - 1 + 6v_j^2\\right) + z_{j-1}\\left(\\frac{1}{h^2} - \\frac{1}{r}\\frac{1}{2h}\\right)+z_{j+1}\\left(\\frac{1}{h^2} + \\frac{1}{r}\\frac{1}{2h}\\right) &= \\frac{v_{j-1}-2v_j+v_{j+1}}{h^2} - \\frac{1}{r}\\frac{v_{j+1} - v_{j-1}}{2h} + v_j - 2v_{j}^3 \\\\\n",
    "z_1\\left(-\\frac{3}{2h}\\right) + z_2(2h) + z_3\\left(-\\frac{1}{2h}\\right)&=-\\frac{-3v_1 + 4v_2 - v_3}{2h}\\\\\n",
    "z_{N+1} &= -v_{N+1}\n",
    "\\end{align}\n",
    "\n",
    "The system can be expressed as\n",
    "\\begin{equation}\n",
    "\\begin{pmatrix}\n",
    "-\\frac{3}{2h} & 2h & -\\frac{1}{2h} & & \\cdots & 0\\\\\n",
    "\\frac{1}{h^2}-\\frac{1}{r}\\frac{1}{2h} & -\\frac{2}{h^2}-1+6v_2^2 & \\frac{1}{h^2} + \\frac{1}{r}\\frac{1}{2h} & & \\cdots & 0\\\\\n",
    "0 & \\frac{1}{h^2}-\\frac{1}{r}\\frac{1}{2h} & -\\frac{2}{h^2}-1+6v_3^2 & \\frac{1}{h^2} + \\frac{1}{r}\\frac{1}{2h} & \\cdots & 0\\\\\n",
    "\\vdots &  &  &  & & \\vdots \\\\\n",
    "0 & \\cdots & & \\frac{1}{h^2}-\\frac{1}{r}\\frac{1}{2h} & -\\frac{2}{h^2}-1+6v_N^2 & \\frac{1}{h^2} + \\frac{1}{r}\\frac{1}{2h}\\\\\n",
    "0 & 0 & \\cdots & 0 & 0 & 1\n",
    "\\end{pmatrix}\n",
    "\\begin{pmatrix}\n",
    "z_1\\\\\n",
    "z_2\\\\\n",
    "z_3\\\\\n",
    "\\vdots\\\\\n",
    "z_{N+1}\n",
    "\\end{pmatrix}\n",
    "=\n",
    "\\begin{pmatrix}\n",
    "-\\frac{-3v_1 + 4v_2 - v_3}{2h}\\\\\n",
    "\\frac{v_1-2v_2+v_3}{h^2} - \\frac{1}{r}\\frac{v_3 - v_1}{2h} + v_2 - 2v_{2}^3\\\\\n",
    "\\frac{v_2-2v_3+v_4}{h^2} - \\frac{1}{r}\\frac{v_4 - v_2}{2h} + v_3 - 2v_{3}^3\\\\\n",
    "\\vdots\\\\\n",
    "-v_{N+1}\n",
    "\\end{pmatrix}\n",
    "\\end{equation}"
   ]
  },
  {
   "cell_type": "markdown",
   "id": "9ba20feade8faf64",
   "metadata": {
    "collapsed": false,
    "jupyter": {
     "outputs_hidden": false
    }
   },
   "source": [
    "Constructing the Jacobian matrix:"
   ]
  },
  {
   "cell_type": "code",
   "execution_count": 358,
   "id": "dcf8a6306fa11e9c",
   "metadata": {
    "ExecuteTime": {
     "end_time": "2024-03-14T20:26:54.304625Z",
     "start_time": "2024-03-14T20:26:54.291107Z"
    },
    "collapsed": false,
    "jupyter": {
     "outputs_hidden": false
    }
   },
   "outputs": [
    {
     "name": "stdout",
     "output_type": "stream",
     "text": [
      "[[-1.50015002  1.9998     -0.50005001  0.          0.          0.\n",
      "   0.          0.          0.          0.          0.        ]\n",
      " [ 0.50059967  0.35498396  1.49980039  0.          0.          0.\n",
      "   0.          0.          0.          0.          0.        ]\n",
      " [ 0.          0.750275   -2.70032324  1.25012506  0.          0.\n",
      "   0.          0.          0.          0.          0.        ]\n",
      " [ 0.          0.          0.83355558 -2.97197552  1.16684448  0.\n",
      "   0.          0.          0.          0.          0.        ]\n",
      " [ 0.          0.          0.          0.87520628 -2.99746128  1.12519378\n",
      "   0.          0.          0.          0.          0.        ]\n",
      " [ 0.          0.          0.          0.          0.90020003 -3.00007877\n",
      "   1.10020003  0.          0.          0.          0.        ]\n",
      " [ 0.          0.          0.          0.          0.          0.91686392\n",
      "  -3.00036384  1.08353614  0.          0.          0.        ]\n",
      " [ 0.          0.          0.          0.          0.          0.\n",
      "   0.92876738 -3.00039608  1.07163268  0.          0.        ]\n",
      " [ 0.          0.          0.          0.          0.          0.\n",
      "   0.          0.93769534 -3.00039977  1.06270472  0.        ]\n",
      " [ 0.          0.          0.          0.          0.          0.\n",
      "   0.          0.          0.94463954 -3.00040002  1.05576052]\n",
      " [ 0.          0.          0.          0.          0.          0.\n",
      "   0.          0.          0.          0.          1.        ]]\n"
     ]
    }
   ],
   "source": [
    "jacobian = np.zeros((N+1, N+1))\n",
    "\n",
    "jacobian[(0, 0)] = -3/(2*h)\n",
    "jacobian[(0, 1)] = 2*h\n",
    "jacobian[(0, 2)] = -1/(2*h)\n",
    "jacobian[(N, N)] = 1\n",
    "\n",
    "diag_1 = []\n",
    "diag_2 = []\n",
    "diag_3 = []\n",
    "\n",
    "for i in range(1, N):\n",
    "    diag_1.append(1/(h**2) - (1/r[i])*(1/(2*h)))\n",
    "    diag_2.append(-2/(h**2) - 1 + 6*v[i]**2)\n",
    "    diag_3.append(1/(h**2) + (1/r[i])*(1/(2*h)))\n",
    "\n",
    "np.fill_diagonal(jacobian[1:, :N-1], diag_1)\n",
    "np.fill_diagonal(jacobian[1:N, 1:N], diag_2)\n",
    "np.fill_diagonal(jacobian[1:N+1, 2:N+1], diag_3)\n",
    "\n",
    "print(jacobian)"
   ]
  },
  {
   "cell_type": "markdown",
   "id": "30cb021c6ce6d263",
   "metadata": {
    "collapsed": false,
    "jupyter": {
     "outputs_hidden": false
    }
   },
   "source": [
    "Creating the $-F$ vector:"
   ]
  },
  {
   "cell_type": "code",
   "execution_count": 359,
   "id": "62c53f53e3045165",
   "metadata": {
    "ExecuteTime": {
     "end_time": "2024-03-14T20:26:54.319626Z",
     "start_time": "2024-03-14T20:26:54.306621Z"
    },
    "collapsed": false,
    "jupyter": {
     "outputs_hidden": false
    }
   },
   "outputs": [
    {
     "name": "stdout",
     "output_type": "stream",
     "text": [
      "[[ 0.95627943]\n",
      " [ 0.86711991]\n",
      " [ 0.74041159]\n",
      " [ 0.20988684]\n",
      " [ 0.06168851]\n",
      " [ 0.0192392 ]\n",
      " [ 0.00621815]\n",
      " [ 0.00202158]\n",
      " [ 0.00057031]\n",
      " [-0.00009663]\n",
      " [ 0.00043345]]\n"
     ]
    }
   ],
   "source": [
    "F = np.zeros((N+1, 1))\n",
    "F[(0, 0)] = -(-3*v[0] + 4*v[1] - v[2])/(2*h)\n",
    "F[(N, 0)] = -v[N]\n",
    "\n",
    "for i in range(1, N):\n",
    "    F[(i, 0)] = (v[i-1] - 2*v[i] + v[i+1])/(h**2) - (1/r[i])*((v[i+1] - v[i-1])/(2*h)) + v[i] - 2*v[i]**3\n",
    "    \n",
    "print(F)\n"
   ]
  },
  {
   "cell_type": "markdown",
   "id": "85f17b41343da17d",
   "metadata": {
    "collapsed": false,
    "jupyter": {
     "outputs_hidden": false
    }
   },
   "source": [
    "Now we can create the while loop that will iteratively solve for the vector $\\vec{z}$"
   ]
  },
  {
   "cell_type": "code",
   "execution_count": 360,
   "id": "1d0b7b8099eff054",
   "metadata": {
    "ExecuteTime": {
     "end_time": "2024-03-14T20:26:54.458846Z",
     "start_time": "2024-03-14T20:26:54.321621Z"
    },
    "collapsed": false,
    "jupyter": {
     "outputs_hidden": false
    }
   },
   "outputs": [
    {
     "data": {
      "image/png": "[encoded data removed]",
      "text/plain": [
       "<Figure size 640x480 with 1 Axes>"
      ]
     },
     "metadata": {},
     "output_type": "display_data"
    }
   ],
   "source": [
    "tol = 10**(-6)\n",
    "n_iterations = 0\n",
    "z = np.zeros((N+1, 1))\n",
    "\n",
    "while norm(F) > tol and n_iterations < 100:\n",
    "    z = solve(jacobian, F)\n",
    "    F = F + z\n",
    "    n_iterations = n_iterations + 1\n",
    "    \n",
    "plt.plot(r, F)\n",
    "plt.show()\n"
   ]
  },
  {
   "cell_type": "code",
   "execution_count": 360,
   "id": "bfbf5b0ea27630a5",
   "metadata": {
    "ExecuteTime": {
     "end_time": "2024-03-14T20:26:54.474461Z",
     "start_time": "2024-03-14T20:26:54.460355Z"
    },
    "collapsed": false,
    "jupyter": {
     "outputs_hidden": false
    }
   },
   "outputs": [],
   "source": []
  }
 ],
 "metadata": {
  "kernelspec": {
   "display_name": "Python 3 (ipykernel)",
   "language": "python",
   "name": "python3"
  },
  "language_info": {
   "codemirror_mode": {
    "name": "ipython",
    "version": 3
   },
   "file_extension": ".py",
   "mimetype": "text/x-python",
   "name": "python",
   "nbconvert_exporter": "python",
   "pygments_lexer": "ipython3",
   "version": "3.9.10"
  }
 },
 "nbformat": 4,
 "nbformat_minor": 5
}

{
 "cells": [
  {
   "cell_type": "code",
   "execution_count": 1,
   "id": "30a105c6fbfc9824",
   "metadata": {
    "collapsed": false,
    "ExecuteTime": {
     "end_time": "2024-03-15T12:53:36.868689Z",
     "start_time": "2024-03-15T12:53:36.364738Z"
    }
   },
   "outputs": [],
   "source": [
    "import numpy as np\n",
    "from scipy.integrate import odeint\n",
    "import matplotlib.pyplot as plt\n",
    "plt.rcParams['text.usetex'] = True"
   ]
  },
  {
   "cell_type": "markdown",
   "id": "ea2ac85d83a3f859",
   "metadata": {
    "collapsed": false
   },
   "source": [
    "Given the following BVP\n",
    "\\begin{equation}\n",
    "\\frac{d^2v}{dr^2} + \\frac{1}{r}\\frac{dv}{dr} - v + 2v^3 = 0\n",
    "\\end{equation}\n",
    "with boundary conditions\n",
    "\\begin{equation}\n",
    "\\frac{dv}{dr}(0)=0,\\quad v(\\infty)=0.\n",
    "\\end{equation}\n",
    "We seek to implement the shooting method to obtain the monotonically decaying and the one node solutions."
   ]
  },
  {
   "cell_type": "markdown",
   "id": "cd787c2416fd15c1",
   "metadata": {
    "collapsed": false
   },
   "source": [
    "The BVP must be converted into an initial value problem\n",
    "\\begin{align}\n",
    "\\frac{dv}{dr}&=u\\\\\n",
    "\\frac{d^2u}{dr^2}&=-\\frac{1}{r}u + v - 2v^3\n",
    "\\end{align}\n",
    "with boundary conditions\n",
    "\\begin{equation}\n",
    "v(0)=p,\\quad \\frac{dv}{dr}(0)=0.\n",
    "\\end{equation}"
   ]
  },
  {
   "cell_type": "markdown",
   "id": "abf6110ef47ad0fa",
   "metadata": {
    "collapsed": false
   },
   "source": [
    "To determine a value of $p$ using the Bisection Method for the decaying solution, we need to know an approximate interval $p_\\text{start}\\leq p\\leq p_\\text{end}$ such that\n",
    "\\begin{equation}\n",
    "\\begin{cases}\n",
    "v(\\infty, p_\\text{start})>0, \\quad p_\\text{start}=p\\\\\n",
    "v(\\infty, p_\\text{end})<0, \\quad p_\\text{end}=p\n",
    "\\end{cases}\n",
    "\\end{equation}\n",
    "The decaying solution will have that $v(\\infty, p_\\text{end})<v(\\infty,p)<v(\\infty, p_\\text{start})$."
   ]
  },
  {
   "cell_type": "code",
   "execution_count": 2,
   "id": "c915a2a200757fe6",
   "metadata": {
    "collapsed": false,
    "ExecuteTime": {
     "end_time": "2024-03-15T12:53:36.900362Z",
     "start_time": "2024-03-15T12:53:36.869689Z"
    }
   },
   "outputs": [
    {
     "name": "stdout",
     "output_type": "stream",
     "text": [
      "p=1.50, v is positive\n",
      "p=1.56, v is positive\n",
      "p=1.61, v is negative\n",
      "p=1.67, v is negative\n",
      "p=1.72, v is negative\n",
      "p=1.78, v is negative\n",
      "p=1.83, v is negative\n",
      "p=1.89, v is negative\n",
      "p=1.94, v is negative\n",
      "p=2.00, v is negative\n"
     ]
    }
   ],
   "source": [
    "def f(v, r):\n",
    "    return v[1], -(1/r)*v[1] + v[0] - 2*v[0]**3\n",
    "\n",
    "r = np.linspace(0.001, 10, 100)\n",
    "\n",
    "for i in np.linspace(1.5, 2, 10):\n",
    "    v0 = [i, 0]\n",
    "    v = odeint(f, v0, r)\n",
    "\n",
    "    if v[-1][0] < 0:\n",
    "        print('p={:.2f}, v is negative'.format(i))\n",
    "    elif v[-1][0] > 0:\n",
    "        print('p={:.2f}, v is positive'.format(i))"
   ]
  },
  {
   "cell_type": "markdown",
   "id": "21f9647917537c2c",
   "metadata": {
    "collapsed": false
   },
   "source": [
    "We observe that $p$ lies in the interval $1.56\\leq p \\leq 1.61$. We can now employ the Bisection Method to find $p$ such that\n",
    "\\begin{equation}\n",
    "|p_N - p_{N-1}|<\\varepsilon\n",
    "\\end{equation}"
   ]
  },
  {
   "cell_type": "code",
   "execution_count": 3,
   "id": "6226bbdde4d26ae0",
   "metadata": {
    "collapsed": false,
    "ExecuteTime": {
     "end_time": "2024-03-15T12:53:38.303813Z",
     "start_time": "2024-03-15T12:53:36.902397Z"
    }
   },
   "outputs": [
    {
     "data": {
      "text/plain": "<Figure size 640x480 with 1 Axes>",
      "image/png": "[encoded data removed]"
     },
     "metadata": {},
     "output_type": "display_data"
    }
   ],
   "source": [
    "pstart, pend = [1.5, 2]\n",
    "tol = 10**(-6)\n",
    "diff = np.abs(pend - pstart)\n",
    "\n",
    "while diff > tol:\n",
    "    updated_p = (pend + pstart)/2\n",
    "    v0 = [updated_p, 0]\n",
    "    v = odeint(f, v0, r)\n",
    "\n",
    "    if v[-1][0] < 0:\n",
    "        pend = updated_p\n",
    "    elif v[-1][0] > 0:\n",
    "        pstart = updated_p\n",
    "\n",
    "    diff = np.abs(pend - pstart)\n",
    "\n",
    "v0 = [updated_p, 0]\n",
    "v = odeint(f, v0, r)\n",
    "plt.plot(r, v[:,0])\n",
    "plt.xlabel(r'$r$')\n",
    "plt.ylabel(r'$v$')\n",
    "plt.title(r'Decaying Solution with Non-Linear Shooting')\n",
    "plt.show()"
   ]
  },
  {
   "cell_type": "markdown",
   "id": "1abee5453a3d8ac3",
   "metadata": {
    "collapsed": false
   },
   "source": [
    "To determine the one-node solution, we need to know an approximate interval $p_\\text{start}\\leq p\\leq p_\\text{end}$ such that\n",
    "\\begin{equation}\n",
    "\\begin{cases}\n",
    "v(\\infty, p_\\text{start})<0, \\quad p_\\text{start}=p\\\\\n",
    "v(\\infty, p_\\text{end})>0, \\quad p_\\text{end}=p\n",
    "\\end{cases}\n",
    "\\end{equation}\n",
    "The decaying solution will have that $v(\\infty, p_\\text{start})<v(\\infty,p)<v(\\infty, p_\\text{end})$."
   ]
  },
  {
   "cell_type": "code",
   "execution_count": 4,
   "id": "4dcece4ec3fdb25f",
   "metadata": {
    "collapsed": false,
    "ExecuteTime": {
     "end_time": "2024-03-15T12:53:38.319818Z",
     "start_time": "2024-03-15T12:53:38.304812Z"
    }
   },
   "outputs": [
    {
     "name": "stdout",
     "output_type": "stream",
     "text": [
      "p=2.00, v is negative\n",
      "p=2.06, v is negative\n",
      "p=2.11, v is negative\n",
      "p=2.17, v is negative\n",
      "p=2.22, v is negative\n",
      "p=2.28, v is negative\n",
      "p=2.33, v is negative\n",
      "p=2.39, v is positive\n",
      "p=2.44, v is positive\n",
      "p=2.50, v is positive\n"
     ]
    }
   ],
   "source": [
    "for i in np.linspace(2, 2.5, 10):\n",
    "    v0 = [i, 0]\n",
    "    v = odeint(f, v0, r)\n",
    "\n",
    "    if v[-1][0] < 0:\n",
    "        print('p={:.2f}, v is negative'.format(i))\n",
    "    elif v[-1][0] > 0:\n",
    "        print('p={:.2f}, v is positive'.format(i))"
   ]
  },
  {
   "cell_type": "markdown",
   "id": "e7a93629fc579a93",
   "metadata": {
    "collapsed": false
   },
   "source": [
    "We observe that $p$ lies in the interval $2.33\\leq p \\leq 2.39$. We can now employ the Bisection Method to find $p$ such that\n",
    "\\begin{equation}\n",
    "|p_N - p_{N-1}|<\\varepsilon\n",
    "\\end{equation}"
   ]
  },
  {
   "cell_type": "code",
   "execution_count": 5,
   "id": "e1bce12ca54d6161",
   "metadata": {
    "collapsed": false,
    "ExecuteTime": {
     "end_time": "2024-03-15T12:53:39.268482Z",
     "start_time": "2024-03-15T12:53:38.320812Z"
    }
   },
   "outputs": [
    {
     "data": {
      "text/plain": "<Figure size 640x480 with 1 Axes>",
      "image/png": "[encoded data removed]"
     },
     "metadata": {},
     "output_type": "display_data"
    }
   ],
   "source": [
    "pstart, pend = [2.33, 2.39]\n",
    "tol = 10**(-6)\n",
    "diff = np.abs(pend - pstart)\n",
    "\n",
    "while diff > tol:\n",
    "    updated_p = (pend + pstart)/2\n",
    "    v0 = [updated_p, 0]\n",
    "    v = odeint(f, v0, r)\n",
    "\n",
    "    if v[-1][0] > 0:\n",
    "        pend = updated_p\n",
    "    elif v[-1][0] < 0:\n",
    "        pstart = updated_p\n",
    "\n",
    "    diff = np.abs(pend - pstart)\n",
    "\n",
    "v0 = [updated_p, 0]\n",
    "v = odeint(f, v0, r)\n",
    "plt.plot(r, v[:,0])\n",
    "plt.xlabel(r'$r$')\n",
    "plt.ylabel(r'$v$')\n",
    "plt.title(r'One-node Solution with Non-Linear Shooting')\n",
    "plt.show()"
   ]
  }
 ],
 "metadata": {
  "kernelspec": {
   "display_name": "Python 3 (ipykernel)",
   "language": "python",
   "name": "python3"
  },
  "language_info": {
   "codemirror_mode": {
    "name": "ipython",
    "version": 3
   },
   "file_extension": ".py",
   "mimetype": "text/x-python",
   "name": "python",
   "nbconvert_exporter": "python",
   "pygments_lexer": "ipython3",
   "version": "3.9.10"
  }
 },
 "nbformat": 4,
 "nbformat_minor": 5
}

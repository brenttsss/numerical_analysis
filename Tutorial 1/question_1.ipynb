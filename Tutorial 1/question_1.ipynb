{
 "cells": [
  {
   "cell_type": "code",
   "execution_count": 69,
   "id": "initial_id",
   "metadata": {
    "collapsed": true,
    "ExecuteTime": {
     "end_time": "2024-03-26T19:42:29.941499Z",
     "start_time": "2024-03-26T19:42:29.920480Z"
    }
   },
   "outputs": [],
   "source": [
    "import matplotlib.pyplot as plt\n",
    "import numpy as np\n",
    "from scipy.integrate import solve_ivp\n",
    "plt.rcParams['text.usetex'] = True"
   ]
  },
  {
   "cell_type": "markdown",
   "source": [
    "### Tutorial 1: Question 1\n",
    "We seek to solve the following non-linear boundary value problem\n",
    "\\begin{equation}\n",
    "y''=2y^3,\\quad y'(1)=-\\frac{1}{4}, \\quad y(4)+y'(4)=\\frac{4}{25}\n",
    "\\end{equation}\n",
    "using the shooting method."
   ],
   "metadata": {
    "collapsed": false
   },
   "id": "d02e50e71c4e5b"
  },
  {
   "cell_type": "code",
   "outputs": [],
   "source": [
    "a, b = [1, 4] # [start point, end point]\n",
    "N = 100 # number of points\n",
    "x = np.linspace(a, b, N+1) # space interval\n",
    "tol = 10**(-6) # tolerance"
   ],
   "metadata": {
    "collapsed": false,
    "ExecuteTime": {
     "end_time": "2024-03-26T19:42:29.956481Z",
     "start_time": "2024-03-26T19:42:29.943481Z"
    }
   },
   "id": "28eea0ba5747e5d9",
   "execution_count": 70
  },
  {
   "cell_type": "markdown",
   "source": [
    "The boundary value problem can be converted into an initial value problem of the form\n",
    "\\begin{equation}\n",
    "\\begin{cases}\n",
    "y' = u \\\\\n",
    "u' = 2y^3\n",
    "\\end{cases}\n",
    "\\end{equation}\n",
    "with initial conditions $y(1)=p$ and $y'(1)=-\\frac{1}{4}$."
   ],
   "metadata": {
    "collapsed": false
   },
   "id": "5638d83244ef8606"
  },
  {
   "cell_type": "code",
   "outputs": [],
   "source": [
    "def f(x, y):\n",
    "    return y[1], 2*y[0]**3"
   ],
   "metadata": {
    "collapsed": false,
    "ExecuteTime": {
     "end_time": "2024-03-26T19:42:29.971487Z",
     "start_time": "2024-03-26T19:42:29.958480Z"
    }
   },
   "id": "85af41530789066f",
   "execution_count": 71
  },
  {
   "cell_type": "markdown",
   "source": [
    "We can determine an approximate interval $c\\leq p \\leq d$ such that\n",
    "\\begin{equation}\n",
    "\\begin{cases}\n",
    "y(4)+y'(4)-\\frac{4}{25} < 0, \\quad c=p \\\\\n",
    "y(4)+y'(4)-\\frac{4}{25} > 0, \\quad d=p \\\\\n",
    "\\end{cases}\n",
    "\\end{equation}"
   ],
   "metadata": {
    "collapsed": false
   },
   "id": "44bacfec23fda3f9"
  },
  {
   "cell_type": "code",
   "outputs": [
    {
     "name": "stdout",
     "output_type": "stream",
     "text": [
      "p=0.00000, less than\n",
      "p=0.11111, less than\n",
      "p=0.22222, less than\n",
      "p=0.33333, less than\n",
      "p=0.44444, less than\n",
      "p=0.55556, greater than\n",
      "p=0.66667, greater than\n",
      "p=0.77778, greater than\n",
      "p=0.88889, greater than\n",
      "p=1.00000, greater than\n"
     ]
    }
   ],
   "source": [
    "for i in np.linspace(0, 1, 10):\n",
    "    y_initial = i\n",
    "    y0 = [y_initial, -1/4]\n",
    "    \n",
    "    sol = solve_ivp(f, [1, 4], y0, t_eval=x)\n",
    "    y = sol.y[:,:]\n",
    "    \n",
    "    if y[0][-1] + y[1][-1] - 4 / 25 < 0:\n",
    "        print('p={:.5f}, less than'.format(i))\n",
    "    elif y[0][-1] + y[1][-1] - 4 / 25 > 0:\n",
    "        print('p={:.5f}, greater than'.format(i))"
   ],
   "metadata": {
    "collapsed": false,
    "ExecuteTime": {
     "end_time": "2024-03-26T19:42:30.018992Z",
     "start_time": "2024-03-26T19:42:29.973483Z"
    }
   },
   "id": "a4817a238e11b486",
   "execution_count": 72
  },
  {
   "cell_type": "markdown",
   "source": [
    "We observe that $p$ lies in the approximate interval $0.4\\leq p \\leq 0.5$. We can now implement the bisection method to find $p$ such that\n",
    "\\begin{equation}\n",
    "|y_{n-1}-y_n|< \\varepsilon\n",
    "\\end{equation}\n",
    "where $\\varepsilon$ is a set tolerance."
   ],
   "metadata": {
    "collapsed": false
   },
   "id": "f63ca80a7c43829f"
  },
  {
   "cell_type": "code",
   "outputs": [],
   "source": [
    "def shooting_method_f(p, x, tol=10**(-6)):\n",
    "    pstart, pend = p\n",
    "    diff = np.abs(pend - pstart)\n",
    "    n_iterations = 0\n",
    "    \n",
    "    while diff > tol:\n",
    "        updated_p = (pend + pstart) / 2\n",
    "        y0 = [updated_p, -1 / 4]\n",
    "        \n",
    "        sol = solve_ivp(f, [1, 4], y0, t_eval=x)\n",
    "        y = sol.y[:,:]\n",
    "        \n",
    "        if y[0][-1] + y[1][-1] - 4 / 25 < 0:\n",
    "            pstart = updated_p\n",
    "        elif y[0][-1] + y[1][-1] - 4 / 25 > 0:\n",
    "            pend = updated_p\n",
    "            \n",
    "        diff = np.abs(pend - pstart)\n",
    "        n_iterations += 1\n",
    "\n",
    "    return [y[0,:], n_iterations]"
   ],
   "metadata": {
    "collapsed": false,
    "ExecuteTime": {
     "end_time": "2024-03-26T19:42:30.034992Z",
     "start_time": "2024-03-26T19:42:30.020993Z"
    }
   },
   "id": "f4c49899b94eda57",
   "execution_count": 73
  },
  {
   "cell_type": "markdown",
   "source": [
    "We can now plot the solution obtained by the shooting method along with the exact solution\n",
    "\\begin{equation}\n",
    "y(x)=\\frac{1}{1+x}\n",
    "\\end{equation}"
   ],
   "metadata": {
    "collapsed": false
   },
   "id": "4e4e5b38dcb0a51e"
  },
  {
   "cell_type": "code",
   "outputs": [
    {
     "data": {
      "text/plain": "<Figure size 640x480 with 1 Axes>",
      "image/png": "[encoded data removed]"
     },
     "metadata": {},
     "output_type": "display_data"
    }
   ],
   "source": [
    "def exact_f(x):\n",
    "    return 1/(1+x)\n",
    "\n",
    "y, n_iterations = shooting_method_f([0.4, 0.5], x)\n",
    "plt.plot(x, y, label=r'Shooting Method')\n",
    "plt.plot(x, exact_f(x), label='Exact')\n",
    "plt.title(r'Shooting Method, {} iterations'.format(n_iterations))\n",
    "plt.xlabel(r'$x$')\n",
    "plt.ylabel(r'$y$')\n",
    "plt.legend()\n",
    "plt.show()"
   ],
   "metadata": {
    "collapsed": false,
    "ExecuteTime": {
     "end_time": "2024-03-26T19:42:30.255024Z",
     "start_time": "2024-03-26T19:42:30.035992Z"
    }
   },
   "id": "a1901e3d247bd8b8",
   "execution_count": 74
  }
 ],
 "metadata": {
  "kernelspec": {
   "display_name": "Python 3",
   "language": "python",
   "name": "python3"
  },
  "language_info": {
   "codemirror_mode": {
    "name": "ipython",
    "version": 2
   },
   "file_extension": ".py",
   "mimetype": "text/x-python",
   "name": "python",
   "nbconvert_exporter": "python",
   "pygments_lexer": "ipython2",
   "version": "2.7.6"
  }
 },
 "nbformat": 4,
 "nbformat_minor": 5
}
